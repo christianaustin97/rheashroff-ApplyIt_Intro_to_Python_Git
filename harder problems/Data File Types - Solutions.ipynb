{
 "cells": [
  {
   "cell_type": "markdown",
   "id": "3afec141",
   "metadata": {},
   "source": [
    "# Data File Types\n",
    "\n",
    "These problems go along with the material presented in the <a href=\"../lectures/Data File Types.ipynb\">Data File Types</a> notebook."
   ]
  },
  {
   "cell_type": "markdown",
   "id": "b091b9ba",
   "metadata": {},
   "source": [
    "1. Type out a `.csv` file by hand that has the columns `column_1`, `column_2`, and `column_3` each of which should contain the data corresponding to the `list`s given below.\n",
    "\n",
    "<i>Note: you can create a blank text file by clicking \"New > Text File\" in the jupyter homepage</i>"
   ]
  },
  {
   "cell_type": "code",
   "execution_count": 1,
   "id": "f0e2765a",
   "metadata": {},
   "outputs": [],
   "source": [
    "column_1 = [\"a\", \"b\", \"c\"]\n",
    "column_2 = [10, 20, 30]\n",
    "column_3 = [-3, 17, -4]"
   ]
  },
  {
   "cell_type": "markdown",
   "id": "5bcafb1a",
   "metadata": {},
   "source": [
    "2. Read in the file you created in 1."
   ]
  },
  {
   "cell_type": "code",
   "execution_count": 2,
   "id": "e280775b",
   "metadata": {},
   "outputs": [
    {
     "data": {
      "text/html": [
       "<div>\n",
       "<style scoped>\n",
       "    .dataframe tbody tr th:only-of-type {\n",
       "        vertical-align: middle;\n",
       "    }\n",
       "\n",
       "    .dataframe tbody tr th {\n",
       "        vertical-align: top;\n",
       "    }\n",
       "\n",
       "    .dataframe thead th {\n",
       "        text-align: right;\n",
       "    }\n",
       "</style>\n",
       "<table border=\"1\" class=\"dataframe\">\n",
       "  <thead>\n",
       "    <tr style=\"text-align: right;\">\n",
       "      <th></th>\n",
       "      <th>column_1</th>\n",
       "      <th>column_2</th>\n",
       "      <th>column_3</th>\n",
       "    </tr>\n",
       "  </thead>\n",
       "  <tbody>\n",
       "    <tr>\n",
       "      <th>0</th>\n",
       "      <td>a</td>\n",
       "      <td>10</td>\n",
       "      <td>-3</td>\n",
       "    </tr>\n",
       "    <tr>\n",
       "      <th>1</th>\n",
       "      <td>b</td>\n",
       "      <td>20</td>\n",
       "      <td>17</td>\n",
       "    </tr>\n",
       "    <tr>\n",
       "      <th>2</th>\n",
       "      <td>c</td>\n",
       "      <td>30</td>\n",
       "      <td>-4</td>\n",
       "    </tr>\n",
       "  </tbody>\n",
       "</table>\n",
       "</div>"
      ],
      "text/plain": [
       "  column_1   column_2   column_3\n",
       "0        a         10         -3\n",
       "1        b         20         17\n",
       "2        c         30         -4"
      ]
     },
     "execution_count": 2,
     "metadata": {},
     "output_type": "execute_result"
    }
   ],
   "source": [
    "import pandas as pd\n",
    "\n",
    "pd.read_csv(\"../data/practice_csv.csv\")"
   ]
  },
  {
   "cell_type": "markdown",
   "id": "f6b8ef72",
   "metadata": {},
   "source": [
    "3. Use the `dump` function from the `json` module, <a href=\"https://docs.python.org/3/library/json.html#json.dump\">https://docs.python.org/3/library/json.html#json.dump</a>, to write the `data_dict` dictionary to a file called `\"social_network.json\"`."
   ]
  },
  {
   "cell_type": "code",
   "execution_count": 3,
   "id": "1c1ece38",
   "metadata": {},
   "outputs": [],
   "source": [
    "data_dict = {\"nodes\": [\"Penelope\", \"Mark\", \"Julia\", \"Craig\", \"Brony\"],\n",
    "             \"edges\":[[\"Penelope\", \"Brony\"],\n",
    "                      [\"Penelope\", \"Julia\"],\n",
    "                      [\"Mark\", \"Brony\"],\n",
    "                      [\"Julia\", \"Craig\"],\n",
    "                      [\"Julia\", \"Brony\"],\n",
    "                      [\"Craig\", \"Brony\"]]}"
   ]
  },
  {
   "cell_type": "code",
   "execution_count": 4,
   "id": "67776577",
   "metadata": {},
   "outputs": [],
   "source": [
    "import json \n",
    "      \n",
    "     \n",
    "with open(\"../data/social_network.json\", \"w\") as outfile:\n",
    "    json.dump(data_dict, outfile)"
   ]
  },
  {
   "cell_type": "markdown",
   "id": "8c0fc7c5",
   "metadata": {},
   "source": [
    "4. Read in the `.json` file you wrote in 3."
   ]
  },
  {
   "cell_type": "code",
   "execution_count": 5,
   "id": "e3c3a8fd",
   "metadata": {},
   "outputs": [
    {
     "data": {
      "text/plain": [
       "{'nodes': ['Penelope', 'Mark', 'Julia', 'Craig', 'Brony'],\n",
       " 'edges': [['Penelope', 'Brony'],\n",
       "  ['Penelope', 'Julia'],\n",
       "  ['Mark', 'Brony'],\n",
       "  ['Julia', 'Craig'],\n",
       "  ['Julia', 'Brony'],\n",
       "  ['Craig', 'Brony']]}"
      ]
     },
     "execution_count": 5,
     "metadata": {},
     "output_type": "execute_result"
    }
   ],
   "source": [
    "with open(\"../data/social_network.json\", \"r\") as file:\n",
    "    data_dict = json.load(file)\n",
    "    \n",
    "data_dict"
   ]
  },
  {
   "cell_type": "markdown",
   "id": "39c12db2",
   "metadata": {},
   "source": [
    "5. Read in the `study_results.parquet` file from the `data` folder."
   ]
  },
  {
   "cell_type": "code",
   "execution_count": 6,
   "id": "88915a5e",
   "metadata": {},
   "outputs": [
    {
     "data": {
      "text/html": [
       "<div>\n",
       "<style scoped>\n",
       "    .dataframe tbody tr th:only-of-type {\n",
       "        vertical-align: middle;\n",
       "    }\n",
       "\n",
       "    .dataframe tbody tr th {\n",
       "        vertical-align: top;\n",
       "    }\n",
       "\n",
       "    .dataframe thead th {\n",
       "        text-align: right;\n",
       "    }\n",
       "</style>\n",
       "<table border=\"1\" class=\"dataframe\">\n",
       "  <thead>\n",
       "    <tr style=\"text-align: right;\">\n",
       "      <th></th>\n",
       "      <th>sex</th>\n",
       "      <th>treatment</th>\n",
       "      <th>age</th>\n",
       "      <th>recovery</th>\n",
       "    </tr>\n",
       "  </thead>\n",
       "  <tbody>\n",
       "    <tr>\n",
       "      <th>0</th>\n",
       "      <td>F</td>\n",
       "      <td>A</td>\n",
       "      <td>19</td>\n",
       "      <td>12</td>\n",
       "    </tr>\n",
       "    <tr>\n",
       "      <th>1</th>\n",
       "      <td>F</td>\n",
       "      <td>A</td>\n",
       "      <td>21</td>\n",
       "      <td>2</td>\n",
       "    </tr>\n",
       "    <tr>\n",
       "      <th>2</th>\n",
       "      <td>F</td>\n",
       "      <td>A</td>\n",
       "      <td>22</td>\n",
       "      <td>13</td>\n",
       "    </tr>\n",
       "    <tr>\n",
       "      <th>3</th>\n",
       "      <td>F</td>\n",
       "      <td>A</td>\n",
       "      <td>24</td>\n",
       "      <td>12</td>\n",
       "    </tr>\n",
       "    <tr>\n",
       "      <th>4</th>\n",
       "      <td>F</td>\n",
       "      <td>A</td>\n",
       "      <td>28</td>\n",
       "      <td>3</td>\n",
       "    </tr>\n",
       "    <tr>\n",
       "      <th>...</th>\n",
       "      <td>...</td>\n",
       "      <td>...</td>\n",
       "      <td>...</td>\n",
       "      <td>...</td>\n",
       "    </tr>\n",
       "    <tr>\n",
       "      <th>115</th>\n",
       "      <td>M</td>\n",
       "      <td>C</td>\n",
       "      <td>59</td>\n",
       "      <td>14</td>\n",
       "    </tr>\n",
       "    <tr>\n",
       "      <th>116</th>\n",
       "      <td>M</td>\n",
       "      <td>C</td>\n",
       "      <td>61</td>\n",
       "      <td>11</td>\n",
       "    </tr>\n",
       "    <tr>\n",
       "      <th>117</th>\n",
       "      <td>M</td>\n",
       "      <td>C</td>\n",
       "      <td>61</td>\n",
       "      <td>13</td>\n",
       "    </tr>\n",
       "    <tr>\n",
       "      <th>118</th>\n",
       "      <td>M</td>\n",
       "      <td>C</td>\n",
       "      <td>62</td>\n",
       "      <td>8</td>\n",
       "    </tr>\n",
       "    <tr>\n",
       "      <th>119</th>\n",
       "      <td>M</td>\n",
       "      <td>C</td>\n",
       "      <td>64</td>\n",
       "      <td>7</td>\n",
       "    </tr>\n",
       "  </tbody>\n",
       "</table>\n",
       "<p>120 rows × 4 columns</p>\n",
       "</div>"
      ],
      "text/plain": [
       "    sex treatment  age  recovery\n",
       "0     F         A   19        12\n",
       "1     F         A   21         2\n",
       "2     F         A   22        13\n",
       "3     F         A   24        12\n",
       "4     F         A   28         3\n",
       "..   ..       ...  ...       ...\n",
       "115   M         C   59        14\n",
       "116   M         C   61        11\n",
       "117   M         C   61        13\n",
       "118   M         C   62         8\n",
       "119   M         C   64         7\n",
       "\n",
       "[120 rows x 4 columns]"
      ]
     },
     "execution_count": 6,
     "metadata": {},
     "output_type": "execute_result"
    }
   ],
   "source": [
    "pd.read_parquet(\"../data/study_results.parquet\")"
   ]
  },
  {
   "cell_type": "markdown",
   "id": "157a0587",
   "metadata": {},
   "source": [
    "--------------------------\n",
    "\n",
    "This notebook was written for the Erd&#337;s Institute C&#337;de Data Science Boot Camp by Matthew Osborne, Ph. D., 2023.\n",
    "\n",
    "Any potential redistributors must seek and receive permission from Matthew Tyler Osborne, Ph.D. prior to redistribution. Redistribution of the material contained in this repository is conditional on acknowledgement of Matthew Tyler Osborne, Ph.D.'s original authorship and sponsorship of the Erdős Institute as subject to the license (see License.md)"
   ]
  },
  {
   "cell_type": "code",
   "execution_count": null,
   "id": "7b181514",
   "metadata": {},
   "outputs": [],
   "source": []
  }
 ],
 "metadata": {
  "kernelspec": {
   "display_name": "Python 3 (ipykernel)",
   "language": "python",
   "name": "python3"
  },
  "language_info": {
   "codemirror_mode": {
    "name": "ipython",
    "version": 3
   },
   "file_extension": ".py",
   "mimetype": "text/x-python",
   "name": "python",
   "nbconvert_exporter": "python",
   "pygments_lexer": "ipython3",
   "version": "3.9.15"
  }
 },
 "nbformat": 4,
 "nbformat_minor": 5
}
