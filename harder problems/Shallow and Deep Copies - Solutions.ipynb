{
 "cells": [
  {
   "cell_type": "markdown",
   "id": "a087d54d",
   "metadata": {},
   "source": [
    "# Shallow and Deep Copies\n",
    "\n",
    "These problems will cover the concepts touched on in <a href=\"../lectures/Shallow and Deep Copies.ipynb\">Shallow and Deep Copies</a>."
   ]
  },
  {
   "cell_type": "markdown",
   "id": "9c9e8b6f",
   "metadata": {},
   "source": [
    "1. Look at the code below, what should happen when it is executed?"
   ]
  },
  {
   "cell_type": "markdown",
   "id": "ad9817f2",
   "metadata": {},
   "source": [
    "When you change the 4th entry of `b` the 4th entry of `a` is also changed, because you only performed an assignment."
   ]
  },
  {
   "cell_type": "code",
   "execution_count": 1,
   "id": "d1e72082",
   "metadata": {},
   "outputs": [
    {
     "name": "stdout",
     "output_type": "stream",
     "text": [
      "[1, 2, 3, 71, 5, 6]\n",
      "[1, 2, 3, 71, 5, 6]\n"
     ]
    }
   ],
   "source": [
    "a = [1,2,3,4,5,6]\n",
    "b = a\n",
    "b[3] = 71\n",
    "\n",
    "print(a)\n",
    "print(b)"
   ]
  },
  {
   "cell_type": "markdown",
   "id": "6b5d573e",
   "metadata": {},
   "source": [
    "2. What would you need to change so that `a` is not changed when you change `b`?"
   ]
  },
  {
   "cell_type": "code",
   "execution_count": 2,
   "id": "e076cb50",
   "metadata": {},
   "outputs": [],
   "source": [
    "import copy"
   ]
  },
  {
   "cell_type": "code",
   "execution_count": 3,
   "id": "64ed0cfe",
   "metadata": {},
   "outputs": [
    {
     "name": "stdout",
     "output_type": "stream",
     "text": [
      "[1, 2, 3, 4, 5, 6]\n",
      "[1, 2, 3, 71, 5, 6]\n"
     ]
    }
   ],
   "source": [
    "## code or write here\n",
    "a = [1,2,3,4,5,6]\n",
    "\n",
    "## use copy.copy(a)\n",
    "b = copy.copy(a)\n",
    "b[3] = 71\n",
    "\n",
    "print(a)\n",
    "print(b)\n"
   ]
  },
  {
   "cell_type": "markdown",
   "id": "8ab85bdc",
   "metadata": {},
   "source": [
    "3. What should happen when the below code is executed?"
   ]
  },
  {
   "cell_type": "markdown",
   "id": "5bf7a23d",
   "metadata": {},
   "source": [
    "`a` will look like `b` because we only performed a shallow copy of `a`."
   ]
  },
  {
   "cell_type": "code",
   "execution_count": 4,
   "id": "ea75291c",
   "metadata": {},
   "outputs": [
    {
     "data": {
      "text/plain": [
       "[[1, 2, 71, 4], [5, 6, 7, 8]]"
      ]
     },
     "execution_count": 4,
     "metadata": {},
     "output_type": "execute_result"
    }
   ],
   "source": [
    "a = [[1, 2, 3, 4], \n",
    "     [5, 6, 7, 8]]\n",
    "\n",
    "b = copy.copy(a)\n",
    "b[0][2] = 71\n",
    "\n",
    "a"
   ]
  },
  {
   "cell_type": "markdown",
   "id": "de17e47d",
   "metadata": {},
   "source": [
    "4. Rewrite the code from 3. so that `a` is not affected when we change `b`."
   ]
  },
  {
   "cell_type": "code",
   "execution_count": 5,
   "id": "d194e003",
   "metadata": {},
   "outputs": [
    {
     "data": {
      "text/plain": [
       "[[1, 2, 3, 4], [5, 6, 7, 8]]"
      ]
     },
     "execution_count": 5,
     "metadata": {},
     "output_type": "execute_result"
    }
   ],
   "source": [
    "a = [[1, 2, 3, 4], \n",
    "     [5, 6, 7, 8]]\n",
    "\n",
    "b = copy.deepcopy(a)\n",
    "b[0][2] = 71\n",
    "\n",
    "a"
   ]
  },
  {
   "cell_type": "markdown",
   "id": "7bfddc44",
   "metadata": {},
   "source": [
    "5. What will happen when the following code chunks are run?"
   ]
  },
  {
   "cell_type": "markdown",
   "id": "5938aca6",
   "metadata": {},
   "source": [
    "Because you only performed an assignment when you change `b` you will also change `a`."
   ]
  },
  {
   "cell_type": "code",
   "execution_count": 6,
   "id": "7f937d38",
   "metadata": {},
   "outputs": [],
   "source": [
    "import numpy as np"
   ]
  },
  {
   "cell_type": "code",
   "execution_count": 7,
   "id": "368f1217",
   "metadata": {},
   "outputs": [
    {
     "name": "stdout",
     "output_type": "stream",
     "text": [
      "[1 2 1 4]\n",
      "[1 2 1 4]\n"
     ]
    }
   ],
   "source": [
    "a = np.array([1,2,3,4])\n",
    "b = a\n",
    "\n",
    "b[2] = 1\n",
    "\n",
    "print(a)\n",
    "print(b)"
   ]
  },
  {
   "cell_type": "markdown",
   "id": "6a2be210",
   "metadata": {},
   "source": [
    "6. Try running `b = a.copy()` and see if the issue from problem 5. persists."
   ]
  },
  {
   "cell_type": "code",
   "execution_count": 8,
   "id": "b9329a74",
   "metadata": {},
   "outputs": [
    {
     "name": "stdout",
     "output_type": "stream",
     "text": [
      "[1 2 3 4]\n",
      "[1 2 1 4]\n"
     ]
    }
   ],
   "source": [
    "## Code here\n",
    "\n",
    "## it is the same :)\n",
    "## just add a .copy()\n",
    "\n",
    "a = np.array([1,2,3,4])\n",
    "b = a.copy()\n",
    "\n",
    "b[2] = 1\n",
    "\n",
    "print(a)\n",
    "print(b)\n"
   ]
  },
  {
   "cell_type": "markdown",
   "id": "00e2b115",
   "metadata": {},
   "source": [
    "7. Delete `a` and `b`."
   ]
  },
  {
   "cell_type": "code",
   "execution_count": 9,
   "id": "7c462491",
   "metadata": {},
   "outputs": [],
   "source": [
    "## code here\n",
    "del a,b\n",
    "\n"
   ]
  },
  {
   "cell_type": "markdown",
   "id": "ad63d9a7",
   "metadata": {},
   "source": [
    "8. In the code below we will create a `pandas` `DataFrame` and store it in the variable `df`. Try running `df_copy = df.copy()` what happens when you try and execute the final code chunk? Is the original `df` altered?"
   ]
  },
  {
   "cell_type": "code",
   "execution_count": 10,
   "id": "572d833f",
   "metadata": {},
   "outputs": [],
   "source": [
    "import pandas as pd\n",
    "\n",
    "df = pd.DataFrame({'column_1':[435, 999, 545],\n",
    "                      'column_2':[\"ab\", \"bc\", \"de\"],\n",
    "                      'column_3':[True, True, False]})"
   ]
  },
  {
   "cell_type": "code",
   "execution_count": 11,
   "id": "3c70a4d6",
   "metadata": {},
   "outputs": [],
   "source": [
    "## code here\n",
    "\n",
    "## .copy() to the rescue again!\n",
    "df_copy = df.copy()\n"
   ]
  },
  {
   "cell_type": "code",
   "execution_count": 12,
   "id": "a56d0d9d",
   "metadata": {},
   "outputs": [
    {
     "name": "stdout",
     "output_type": "stream",
     "text": [
      "df = \n",
      "   column_1 column_2  column_3\n",
      "0       435       ab      True\n",
      "1       999       bc      True\n",
      "2       545       de     False\n",
      "\n",
      "df_copy = \n",
      "   column_1 column_2  column_3\n",
      "0       435       ab      True\n",
      "1       999       bc      True\n",
      "2       545       cd     False\n"
     ]
    }
   ],
   "source": [
    "df_copy.loc[2, 'column_2'] = \"cd\"\n",
    "\n",
    "print(\"df = \")\n",
    "print(df)\n",
    "\n",
    "print()\n",
    "\n",
    "print(\"df_copy = \")\n",
    "print(df_copy)"
   ]
  },
  {
   "cell_type": "markdown",
   "id": "55a610ed",
   "metadata": {},
   "source": [
    "--------------------------\n",
    "\n",
    "This notebook was written for the Erd&#337;s Institute C&#337;de Data Science Boot Camp by Matthew Osborne, Ph. D., 2023.\n",
    "\n",
    "Any potential redistributors must seek and receive permission from Matthew Tyler Osborne, Ph.D. prior to redistribution. Redistribution of the material contained in this repository is conditional on acknowledgement of Matthew Tyler Osborne, Ph.D.'s original authorship and sponsorship of the Erdős Institute as subject to the license (see License.md)"
   ]
  },
  {
   "cell_type": "code",
   "execution_count": null,
   "id": "c840cbf3",
   "metadata": {},
   "outputs": [],
   "source": []
  }
 ],
 "metadata": {
  "kernelspec": {
   "display_name": "Python 3 (ipykernel)",
   "language": "python",
   "name": "python3"
  },
  "language_info": {
   "codemirror_mode": {
    "name": "ipython",
    "version": 3
   },
   "file_extension": ".py",
   "mimetype": "text/x-python",
   "name": "python",
   "nbconvert_exporter": "python",
   "pygments_lexer": "ipython3",
   "version": "3.9.15"
  }
 },
 "nbformat": 4,
 "nbformat_minor": 5
}
