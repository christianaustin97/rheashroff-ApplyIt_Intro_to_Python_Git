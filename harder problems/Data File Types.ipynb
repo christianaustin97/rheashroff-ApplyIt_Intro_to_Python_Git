{
 "cells": [
  {
   "cell_type": "markdown",
   "id": "3afec141",
   "metadata": {},
   "source": [
    "# Data File Types\n",
    "\n",
    "These problems go along with the material presented in the <a href=\"../lectures/Data File Types.ipynb\">Data File Types</a> notebook."
   ]
  },
  {
   "cell_type": "markdown",
   "id": "b091b9ba",
   "metadata": {},
   "source": [
    "1. Type out a `.csv` file by hand that has the columns `column_1`, `column_2`, and `column_3` each of which should contain the data corresponding to the `list`s given below.\n",
    "\n",
    "<i>Note: you can create a blank text file by clicking \"New > Text File\" in the jupyter homepage</i>"
   ]
  },
  {
   "cell_type": "code",
   "execution_count": null,
   "id": "f0e2765a",
   "metadata": {},
   "outputs": [],
   "source": [
    "column_1 = [\"a\", \"b\", \"c\"]\n",
    "column_2 = [10, 20, 30]\n",
    "column_3 = [-3, 17, -4]"
   ]
  },
  {
   "cell_type": "markdown",
   "id": "5bcafb1a",
   "metadata": {},
   "source": [
    "2. Read in the file you created in 1."
   ]
  },
  {
   "cell_type": "code",
   "execution_count": null,
   "id": "e280775b",
   "metadata": {},
   "outputs": [],
   "source": [
    "## code here\n"
   ]
  },
  {
   "cell_type": "code",
   "execution_count": null,
   "id": "d5678e97",
   "metadata": {},
   "outputs": [],
   "source": [
    "## code here\n"
   ]
  },
  {
   "cell_type": "markdown",
   "id": "2249654e",
   "metadata": {},
   "source": [
    "3. Use the `dump` function from the `json` package, <a href=\"https://docs.python.org/3/library/json.html#json.dump\">https://docs.python.org/3/library/json.html#json.dump</a>, to write the `data_dict` dictionary to a file called `\"social_network.json\"`."
   ]
  },
  {
   "cell_type": "code",
   "execution_count": null,
   "id": "d88c1a7d",
   "metadata": {},
   "outputs": [],
   "source": [
    "data_dict = {\"nodes\": [\"Penelope\", \"Mark\", \"Julia\", \"Craig\", \"Brony\"],\n",
    "             \"edges\":[[\"Penelope\", \"Brony\"],\n",
    "                      [\"Penelope\", \"Julia\"],\n",
    "                      [\"Mark\", \"Brony\"],\n",
    "                      [\"Julia\", \"Craig\"],\n",
    "                      [\"Julia\", \"Brony\"],\n",
    "                      [\"Craig\", \"Brony\"]]}"
   ]
  },
  {
   "cell_type": "code",
   "execution_count": null,
   "id": "2ba29076",
   "metadata": {},
   "outputs": [],
   "source": [
    "## code here\n"
   ]
  },
  {
   "cell_type": "code",
   "execution_count": null,
   "id": "bf881192",
   "metadata": {},
   "outputs": [],
   "source": [
    "## code here\n"
   ]
  },
  {
   "cell_type": "markdown",
   "id": "af8b8eb3",
   "metadata": {},
   "source": [
    "4. Read in the `.json` file you wrote in 3."
   ]
  },
  {
   "cell_type": "code",
   "execution_count": null,
   "id": "cae8a90f",
   "metadata": {},
   "outputs": [],
   "source": [
    "## code here\n",
    "\n"
   ]
  },
  {
   "cell_type": "code",
   "execution_count": null,
   "id": "541ab413",
   "metadata": {},
   "outputs": [],
   "source": [
    "## code here\n"
   ]
  },
  {
   "cell_type": "markdown",
   "id": "6410f694",
   "metadata": {},
   "source": [
    "5. Read in the `study_results.parquet` file from the `data` folder."
   ]
  },
  {
   "cell_type": "code",
   "execution_count": null,
   "id": "378435ba",
   "metadata": {},
   "outputs": [],
   "source": [
    "## code here\n"
   ]
  },
  {
   "cell_type": "markdown",
   "id": "eef0a95e",
   "metadata": {},
   "source": [
    "--------------------------\n",
    "\n",
    "This notebook was written for the Erd&#337;s Institute C&#337;de Data Science Boot Camp by Matthew Osborne, Ph. D., 2023.\n",
    "\n",
    "Any potential redistributors must seek and receive permission from Matthew Tyler Osborne, Ph.D. prior to redistribution. Redistribution of the material contained in this repository is conditional on acknowledgement of Matthew Tyler Osborne, Ph.D.'s original authorship and sponsorship of the Erdős Institute as subject to the license (see License.md)"
   ]
  }
 ],
 "metadata": {
  "kernelspec": {
   "display_name": "Python 3 (ipykernel)",
   "language": "python",
   "name": "python3"
  },
  "language_info": {
   "codemirror_mode": {
    "name": "ipython",
    "version": 3
   },
   "file_extension": ".py",
   "mimetype": "text/x-python",
   "name": "python",
   "nbconvert_exporter": "python",
   "pygments_lexer": "ipython3",
   "version": "3.9.15"
  }
 },
 "nbformat": 4,
 "nbformat_minor": 5
}
