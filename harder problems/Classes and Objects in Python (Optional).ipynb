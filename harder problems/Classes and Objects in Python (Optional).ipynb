{
 "cells": [
  {
   "cell_type": "markdown",
   "id": "1f70ee74",
   "metadata": {},
   "source": [
    "# Classes and Objects in Python (Optional)\n",
    "\n",
    "The problems in this notebook correspond to the material presented in <a href=\"../lectures/Classes and Objects in Python (Optional).ipynb\">Classes and Objects in Python (Optional)</a>"
   ]
  },
  {
   "cell_type": "markdown",
   "id": "8dfe0719",
   "metadata": {},
   "source": [
    "1. Use `type` to see what kind of object the item stored in `x` is."
   ]
  },
  {
   "cell_type": "code",
   "execution_count": null,
   "id": "c29974e4",
   "metadata": {},
   "outputs": [],
   "source": [
    "import numpy as np\n",
    "\n",
    "x = np.array([1,2,3,4])"
   ]
  },
  {
   "cell_type": "code",
   "execution_count": null,
   "id": "9c626e8d",
   "metadata": {},
   "outputs": [],
   "source": []
  },
  {
   "cell_type": "markdown",
   "id": "b4c73acf",
   "metadata": {},
   "source": [
    "2. In the following code is `.shape` an object attribute or an object function?"
   ]
  },
  {
   "cell_type": "code",
   "execution_count": null,
   "id": "58ca7b62",
   "metadata": {},
   "outputs": [],
   "source": [
    "x.shape"
   ]
  },
  {
   "cell_type": "markdown",
   "id": "c062fec0",
   "metadata": {},
   "source": [
    "3. In the following code is `.sum()` an object attribute or an object function?"
   ]
  },
  {
   "cell_type": "code",
   "execution_count": null,
   "id": "1fc4d201",
   "metadata": {},
   "outputs": [],
   "source": [
    "x.sum()"
   ]
  },
  {
   "cell_type": "markdown",
   "id": "bfcb0441",
   "metadata": {},
   "source": [
    "4. You can see all of the attributes and functions for an object using the `dir()` function. Try using the `dir()` function on `x` to list all of its attributes and functions."
   ]
  },
  {
   "cell_type": "code",
   "execution_count": null,
   "id": "3bbc3c17",
   "metadata": {},
   "outputs": [],
   "source": []
  },
  {
   "cell_type": "markdown",
   "id": "1ba65cf0",
   "metadata": {},
   "source": [
    "5. Make a class called `Contact` that takes in a `name`, `number`, and `num_type` which defaults to `'Home'`. The class should keep track of how many objects have been created. It should have object methods:\n",
    "- `call()`, which prints `\"Ring Ring Ring.\"` and keeps track of how many times the contact has been called,\n",
    "- `text(message)`, which takes in a message, prints `\"Message Sent.\"` and keeps track of how many messages have been sent to this contact.\n",
    "The class should also have a class method called `how_many` that returns how many objects have been created. Test out all of the methods and attributes we have given the class and objects."
   ]
  },
  {
   "cell_type": "code",
   "execution_count": null,
   "id": "0e18afd4",
   "metadata": {},
   "outputs": [],
   "source": [
    "## code here\n",
    "\n"
   ]
  },
  {
   "cell_type": "code",
   "execution_count": null,
   "id": "1d31008c",
   "metadata": {},
   "outputs": [],
   "source": [
    "## code here\n",
    "\n"
   ]
  },
  {
   "cell_type": "code",
   "execution_count": null,
   "id": "e5cc1c6d",
   "metadata": {},
   "outputs": [],
   "source": [
    "## code here\n",
    "\n"
   ]
  },
  {
   "cell_type": "code",
   "execution_count": null,
   "id": "41cd2fc1",
   "metadata": {},
   "outputs": [],
   "source": [
    "## code here\n",
    "\n"
   ]
  },
  {
   "cell_type": "code",
   "execution_count": null,
   "id": "63ef9aa8",
   "metadata": {},
   "outputs": [],
   "source": [
    "## code here\n",
    "\n"
   ]
  },
  {
   "cell_type": "code",
   "execution_count": null,
   "id": "404be62d",
   "metadata": {},
   "outputs": [],
   "source": [
    "## code here\n",
    "\n"
   ]
  },
  {
   "cell_type": "markdown",
   "id": "82fa13bd",
   "metadata": {},
   "source": [
    "--------------------------\n",
    "\n",
    "This notebook was written for the Erd&#337;s Institute C&#337;de Data Science Boot Camp by Matthew Osborne, Ph. D., 2023.\n",
    "\n",
    "Any potential redistributors must seek and receive permission from Matthew Tyler Osborne, Ph.D. prior to redistribution. Redistribution of the material contained in this repository is conditional on acknowledgement of Matthew Tyler Osborne, Ph.D.'s original authorship and sponsorship of the Erdős Institute as subject to the license (see License.md)"
   ]
  },
  {
   "cell_type": "code",
   "execution_count": null,
   "id": "1327a0d4",
   "metadata": {},
   "outputs": [],
   "source": []
  }
 ],
 "metadata": {
  "kernelspec": {
   "display_name": "Python 3 (ipykernel)",
   "language": "python",
   "name": "python3"
  },
  "language_info": {
   "codemirror_mode": {
    "name": "ipython",
    "version": 3
   },
   "file_extension": ".py",
   "mimetype": "text/x-python",
   "name": "python",
   "nbconvert_exporter": "python",
   "pygments_lexer": "ipython3",
   "version": "3.9.15"
  }
 },
 "nbformat": 4,
 "nbformat_minor": 5
}
