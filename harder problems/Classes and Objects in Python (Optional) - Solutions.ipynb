{
 "cells": [
  {
   "cell_type": "markdown",
   "id": "1f70ee74",
   "metadata": {},
   "source": [
    "# Classes and Objects in Python (Optional)\n",
    "\n",
    "The problems in this notebook correspond to the material presented in <a href=\"../lectures/Classes and Objects in Python (Optional).ipynb\">Classes and Objects in Python (Optional)</a>"
   ]
  },
  {
   "cell_type": "markdown",
   "id": "8dfe0719",
   "metadata": {},
   "source": [
    "1. Use `type` to see what kind of object the item stored in `x` is."
   ]
  },
  {
   "cell_type": "code",
   "execution_count": 1,
   "id": "c29974e4",
   "metadata": {},
   "outputs": [],
   "source": [
    "import numpy as np\n",
    "\n",
    "x = np.array([1,2,3,4])"
   ]
  },
  {
   "cell_type": "code",
   "execution_count": 2,
   "id": "9c626e8d",
   "metadata": {},
   "outputs": [
    {
     "data": {
      "text/plain": [
       "numpy.ndarray"
      ]
     },
     "execution_count": 2,
     "metadata": {},
     "output_type": "execute_result"
    }
   ],
   "source": [
    "type(x)"
   ]
  },
  {
   "cell_type": "markdown",
   "id": "b4c73acf",
   "metadata": {},
   "source": [
    "2. In the following code is `.shape` an object attribute or an object function?"
   ]
  },
  {
   "cell_type": "code",
   "execution_count": 3,
   "id": "58ca7b62",
   "metadata": {},
   "outputs": [
    {
     "data": {
      "text/plain": [
       "(4,)"
      ]
     },
     "execution_count": 3,
     "metadata": {},
     "output_type": "execute_result"
    }
   ],
   "source": [
    "x.shape"
   ]
  },
  {
   "cell_type": "markdown",
   "id": "e3d06fc0",
   "metadata": {},
   "source": [
    "An attribute."
   ]
  },
  {
   "cell_type": "markdown",
   "id": "c062fec0",
   "metadata": {},
   "source": [
    "3. In the following code is `.sum()` an object attribute or an object function?"
   ]
  },
  {
   "cell_type": "code",
   "execution_count": 4,
   "id": "1fc4d201",
   "metadata": {},
   "outputs": [
    {
     "data": {
      "text/plain": [
       "10"
      ]
     },
     "execution_count": 4,
     "metadata": {},
     "output_type": "execute_result"
    }
   ],
   "source": [
    "x.sum()"
   ]
  },
  {
   "cell_type": "markdown",
   "id": "9aa15269",
   "metadata": {},
   "source": [
    "An object function."
   ]
  },
  {
   "cell_type": "markdown",
   "id": "bfcb0441",
   "metadata": {},
   "source": [
    "4. You can see all of the attributes and functions for an object using the `dir()` function. Try using the `dir()` function on `x` to list all of its attributes and functions."
   ]
  },
  {
   "cell_type": "code",
   "execution_count": 5,
   "id": "3bbc3c17",
   "metadata": {},
   "outputs": [
    {
     "data": {
      "text/plain": [
       "['T',\n",
       " '__abs__',\n",
       " '__add__',\n",
       " '__and__',\n",
       " '__array__',\n",
       " '__array_finalize__',\n",
       " '__array_function__',\n",
       " '__array_interface__',\n",
       " '__array_prepare__',\n",
       " '__array_priority__',\n",
       " '__array_struct__',\n",
       " '__array_ufunc__',\n",
       " '__array_wrap__',\n",
       " '__bool__',\n",
       " '__class__',\n",
       " '__class_getitem__',\n",
       " '__complex__',\n",
       " '__contains__',\n",
       " '__copy__',\n",
       " '__deepcopy__',\n",
       " '__delattr__',\n",
       " '__delitem__',\n",
       " '__dir__',\n",
       " '__divmod__',\n",
       " '__dlpack__',\n",
       " '__dlpack_device__',\n",
       " '__doc__',\n",
       " '__eq__',\n",
       " '__float__',\n",
       " '__floordiv__',\n",
       " '__format__',\n",
       " '__ge__',\n",
       " '__getattribute__',\n",
       " '__getitem__',\n",
       " '__gt__',\n",
       " '__hash__',\n",
       " '__iadd__',\n",
       " '__iand__',\n",
       " '__ifloordiv__',\n",
       " '__ilshift__',\n",
       " '__imatmul__',\n",
       " '__imod__',\n",
       " '__imul__',\n",
       " '__index__',\n",
       " '__init__',\n",
       " '__init_subclass__',\n",
       " '__int__',\n",
       " '__invert__',\n",
       " '__ior__',\n",
       " '__ipow__',\n",
       " '__irshift__',\n",
       " '__isub__',\n",
       " '__iter__',\n",
       " '__itruediv__',\n",
       " '__ixor__',\n",
       " '__le__',\n",
       " '__len__',\n",
       " '__lshift__',\n",
       " '__lt__',\n",
       " '__matmul__',\n",
       " '__mod__',\n",
       " '__mul__',\n",
       " '__ne__',\n",
       " '__neg__',\n",
       " '__new__',\n",
       " '__or__',\n",
       " '__pos__',\n",
       " '__pow__',\n",
       " '__radd__',\n",
       " '__rand__',\n",
       " '__rdivmod__',\n",
       " '__reduce__',\n",
       " '__reduce_ex__',\n",
       " '__repr__',\n",
       " '__rfloordiv__',\n",
       " '__rlshift__',\n",
       " '__rmatmul__',\n",
       " '__rmod__',\n",
       " '__rmul__',\n",
       " '__ror__',\n",
       " '__rpow__',\n",
       " '__rrshift__',\n",
       " '__rshift__',\n",
       " '__rsub__',\n",
       " '__rtruediv__',\n",
       " '__rxor__',\n",
       " '__setattr__',\n",
       " '__setitem__',\n",
       " '__setstate__',\n",
       " '__sizeof__',\n",
       " '__str__',\n",
       " '__sub__',\n",
       " '__subclasshook__',\n",
       " '__truediv__',\n",
       " '__xor__',\n",
       " 'all',\n",
       " 'any',\n",
       " 'argmax',\n",
       " 'argmin',\n",
       " 'argpartition',\n",
       " 'argsort',\n",
       " 'astype',\n",
       " 'base',\n",
       " 'byteswap',\n",
       " 'choose',\n",
       " 'clip',\n",
       " 'compress',\n",
       " 'conj',\n",
       " 'conjugate',\n",
       " 'copy',\n",
       " 'ctypes',\n",
       " 'cumprod',\n",
       " 'cumsum',\n",
       " 'data',\n",
       " 'diagonal',\n",
       " 'dot',\n",
       " 'dtype',\n",
       " 'dump',\n",
       " 'dumps',\n",
       " 'fill',\n",
       " 'flags',\n",
       " 'flat',\n",
       " 'flatten',\n",
       " 'getfield',\n",
       " 'imag',\n",
       " 'item',\n",
       " 'itemset',\n",
       " 'itemsize',\n",
       " 'max',\n",
       " 'mean',\n",
       " 'min',\n",
       " 'nbytes',\n",
       " 'ndim',\n",
       " 'newbyteorder',\n",
       " 'nonzero',\n",
       " 'partition',\n",
       " 'prod',\n",
       " 'ptp',\n",
       " 'put',\n",
       " 'ravel',\n",
       " 'real',\n",
       " 'repeat',\n",
       " 'reshape',\n",
       " 'resize',\n",
       " 'round',\n",
       " 'searchsorted',\n",
       " 'setfield',\n",
       " 'setflags',\n",
       " 'shape',\n",
       " 'size',\n",
       " 'sort',\n",
       " 'squeeze',\n",
       " 'std',\n",
       " 'strides',\n",
       " 'sum',\n",
       " 'swapaxes',\n",
       " 'take',\n",
       " 'tobytes',\n",
       " 'tofile',\n",
       " 'tolist',\n",
       " 'tostring',\n",
       " 'trace',\n",
       " 'transpose',\n",
       " 'var',\n",
       " 'view']"
      ]
     },
     "execution_count": 5,
     "metadata": {},
     "output_type": "execute_result"
    }
   ],
   "source": [
    "dir(x)"
   ]
  },
  {
   "cell_type": "markdown",
   "id": "1ba65cf0",
   "metadata": {},
   "source": [
    "5. Make a class called `Contact` that takes in a `name`, `number`, and `num_type` which defaults to `'Home'`. The class should keep track of how many objects have been created. It should have object methods:\n",
    "- `call()`, which prints `\"Ring Ring Ring.\"` and keeps track of how many times the contact has been called,\n",
    "- `text(message)`, which takes in a message, prints `\"Message Sent.\"` and keeps track of how many messages have been sent to this contact.\n",
    "The class should also have a class method called `how_many` that returns how many objects have been created. Test out all of the methods and attributes we have given the class and objects."
   ]
  },
  {
   "cell_type": "code",
   "execution_count": 6,
   "id": "0e18afd4",
   "metadata": {},
   "outputs": [],
   "source": [
    "class Contact:\n",
    "    num_contacts = 0\n",
    "    \n",
    "    def __init__(self, name, number, num_type='Home'):\n",
    "        self.name = name\n",
    "        self.number = number\n",
    "        self.num_type = num_type\n",
    "        self.num_calls = 0\n",
    "        self.num_texts = 0\n",
    "        \n",
    "        Contact.num_contacts = Contact.num_contacts + 1\n",
    "    \n",
    "    \n",
    "    def call(self):\n",
    "        self.num_calls = self.num_calls + 1\n",
    "        print(\"Ring Ring Ring.\")\n",
    "        \n",
    "    def text(self, message):\n",
    "        self.num_texts = self.num_texts + 1\n",
    "        print(\"Message Sent.\")\n",
    "        \n",
    "\n",
    "        \n",
    "    @classmethod\n",
    "    def how_many(cls):\n",
    "        return Contact.num_contacts"
   ]
  },
  {
   "cell_type": "code",
   "execution_count": 7,
   "id": "62c3357b",
   "metadata": {},
   "outputs": [],
   "source": [
    "Mom = Contact(\"Mom\", \"322-039-0303\", \"Mobile\")"
   ]
  },
  {
   "cell_type": "code",
   "execution_count": 8,
   "id": "d2ca49ff",
   "metadata": {},
   "outputs": [
    {
     "name": "stdout",
     "output_type": "stream",
     "text": [
      "Contact: Mom\n",
      "Number: 322-039-0303\n",
      "Phone Type: Mobile\n"
     ]
    }
   ],
   "source": [
    "print(\"Contact:\", Mom.name)\n",
    "print(\"Number:\", Mom.number)\n",
    "print(\"Phone Type:\", Mom.num_type)"
   ]
  },
  {
   "cell_type": "code",
   "execution_count": 9,
   "id": "fe3dba4e",
   "metadata": {},
   "outputs": [
    {
     "name": "stdout",
     "output_type": "stream",
     "text": [
      "Ring Ring Ring.\n"
     ]
    }
   ],
   "source": [
    "Mom.call()"
   ]
  },
  {
   "cell_type": "code",
   "execution_count": 10,
   "id": "582af405",
   "metadata": {},
   "outputs": [
    {
     "name": "stdout",
     "output_type": "stream",
     "text": [
      "Message Sent.\n"
     ]
    }
   ],
   "source": [
    "Mom.text(\"Hey! How are you?\")"
   ]
  },
  {
   "cell_type": "code",
   "execution_count": 11,
   "id": "65342633",
   "metadata": {},
   "outputs": [
    {
     "name": "stdout",
     "output_type": "stream",
     "text": [
      "Mom called 1 times.\n",
      "Mom texted 1 times.\n"
     ]
    }
   ],
   "source": [
    "print(Mom.name, \"called\", Mom.num_calls, \"times.\")\n",
    "print(Mom.name, \"texted\", Mom.num_texts, \"times.\")"
   ]
  },
  {
   "cell_type": "code",
   "execution_count": 12,
   "id": "cbe6a1db",
   "metadata": {},
   "outputs": [
    {
     "name": "stdout",
     "output_type": "stream",
     "text": [
      "There are 1 Contact objects.\n"
     ]
    }
   ],
   "source": [
    "print(\"There are\", Contact.how_many(), \"Contact objects.\")"
   ]
  },
  {
   "cell_type": "markdown",
   "id": "82fa13bd",
   "metadata": {},
   "source": [
    "--------------------------\n",
    "\n",
    "This notebook was written for the Erd&#337;s Institute C&#337;de Data Science Boot Camp by Matthew Osborne, Ph. D., 2023.\n",
    "\n",
    "Any potential redistributors must seek and receive permission from Matthew Tyler Osborne, Ph.D. prior to redistribution. Redistribution of the material contained in this repository is conditional on acknowledgement of Matthew Tyler Osborne, Ph.D.'s original authorship and sponsorship of the Erdős Institute as subject to the license (see License.md)"
   ]
  },
  {
   "cell_type": "code",
   "execution_count": null,
   "id": "1327a0d4",
   "metadata": {},
   "outputs": [],
   "source": []
  }
 ],
 "metadata": {
  "kernelspec": {
   "display_name": "Python 3 (ipykernel)",
   "language": "python",
   "name": "python3"
  },
  "language_info": {
   "codemirror_mode": {
    "name": "ipython",
    "version": 3
   },
   "file_extension": ".py",
   "mimetype": "text/x-python",
   "name": "python",
   "nbconvert_exporter": "python",
   "pygments_lexer": "ipython3",
   "version": "3.9.15"
  }
 },
 "nbformat": 4,
 "nbformat_minor": 5
}
