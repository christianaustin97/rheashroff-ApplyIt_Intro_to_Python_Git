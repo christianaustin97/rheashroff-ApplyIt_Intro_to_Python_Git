{
 "cells": [
  {
   "cell_type": "markdown",
   "id": "a087d54d",
   "metadata": {},
   "source": [
    "# Shallow and Deep Copies\n",
    "\n",
    "These problems will cover the concepts touched on in <a href=\"../lectures/Shallow and Deep Copies.ipynb\">Shallow and Deep Copies</a>."
   ]
  },
  {
   "cell_type": "markdown",
   "id": "9c9e8b6f",
   "metadata": {},
   "source": [
    "1. Look at the code below, what should happen when it is executed?"
   ]
  },
  {
   "cell_type": "code",
   "execution_count": null,
   "id": "d1e72082",
   "metadata": {},
   "outputs": [],
   "source": [
    "a = [1,2,3,4,5,6]\n",
    "b = a\n",
    "b[3] = 71\n",
    "\n",
    "print(a)\n",
    "print(b)"
   ]
  },
  {
   "cell_type": "markdown",
   "id": "6b5d573e",
   "metadata": {},
   "source": [
    "2. What would you need to change so that `a` is not changed when you change `b`?"
   ]
  },
  {
   "cell_type": "code",
   "execution_count": null,
   "id": "11430bc9",
   "metadata": {},
   "outputs": [],
   "source": [
    "## code or write here\n"
   ]
  },
  {
   "cell_type": "code",
   "execution_count": null,
   "id": "64ed0cfe",
   "metadata": {},
   "outputs": [],
   "source": [
    "## code or write here\n"
   ]
  },
  {
   "cell_type": "markdown",
   "id": "6d7ca446",
   "metadata": {},
   "source": [
    "3. What should happen when the below code is executed?"
   ]
  },
  {
   "cell_type": "code",
   "execution_count": null,
   "id": "cff90124",
   "metadata": {},
   "outputs": [],
   "source": [
    "a = [[1, 2, 3, 4], \n",
    "     [5, 6, 7, 8]]\n",
    "\n",
    "b = copy.copy(a)\n",
    "b[0][2] = 71\n",
    "\n",
    "a"
   ]
  },
  {
   "cell_type": "markdown",
   "id": "de17e47d",
   "metadata": {},
   "source": [
    "4. Rewrite the code from 3. so that `a` is not affected when we change `b`."
   ]
  },
  {
   "cell_type": "code",
   "execution_count": null,
   "id": "5f6615f1",
   "metadata": {},
   "outputs": [],
   "source": [
    "## code here\n",
    "\n"
   ]
  },
  {
   "cell_type": "markdown",
   "id": "26e82836",
   "metadata": {},
   "source": [
    "5. What will happen when the following code chunks are run?"
   ]
  },
  {
   "cell_type": "code",
   "execution_count": null,
   "id": "7f937d38",
   "metadata": {},
   "outputs": [],
   "source": [
    "import numpy as np"
   ]
  },
  {
   "cell_type": "code",
   "execution_count": null,
   "id": "368f1217",
   "metadata": {},
   "outputs": [],
   "source": [
    "a = np.array([1,2,3,4])\n",
    "b = a\n",
    "\n",
    "b[2] = 1\n",
    "\n",
    "print(a)\n",
    "print(b)"
   ]
  },
  {
   "cell_type": "markdown",
   "id": "6a2be210",
   "metadata": {},
   "source": [
    "6. Try running `b = a.copy()` and see if the issue from problem 5. persists."
   ]
  },
  {
   "cell_type": "code",
   "execution_count": null,
   "id": "b9329a74",
   "metadata": {},
   "outputs": [],
   "source": [
    "## code here\n"
   ]
  },
  {
   "cell_type": "markdown",
   "id": "00e2b115",
   "metadata": {},
   "source": [
    "7. Delete `a` and `b`."
   ]
  },
  {
   "cell_type": "code",
   "execution_count": null,
   "id": "7c462491",
   "metadata": {},
   "outputs": [],
   "source": [
    "## code here\n",
    "\n"
   ]
  },
  {
   "cell_type": "markdown",
   "id": "ad63d9a7",
   "metadata": {},
   "source": [
    "8. In the code below we will create a `pandas` `DataFrame` and store it in the variable `df`. Try running `df_copy = df.copy()` what happens when you try and execute the final code chunk? Is the original `df` altered?"
   ]
  },
  {
   "cell_type": "code",
   "execution_count": null,
   "id": "572d833f",
   "metadata": {},
   "outputs": [],
   "source": [
    "import pandas as pd\n",
    "\n",
    "df = pd.DataFrame({'column_1':[435, 999, 545],\n",
    "                      'column_2':[\"ab\", \"bc\", \"de\"],\n",
    "                      'column_3':[True, True, False]})"
   ]
  },
  {
   "cell_type": "code",
   "execution_count": null,
   "id": "3c70a4d6",
   "metadata": {},
   "outputs": [],
   "source": [
    "## code here\n"
   ]
  },
  {
   "cell_type": "code",
   "execution_count": null,
   "id": "d335a43f",
   "metadata": {},
   "outputs": [],
   "source": [
    "df_copy.loc[2, 'column_2'] = \"cd\"\n",
    "\n",
    "print(\"df = \")\n",
    "print(df)\n",
    "\n",
    "print()\n",
    "\n",
    "print(\"df_copy = \")\n",
    "print(df_copy)"
   ]
  },
  {
   "cell_type": "markdown",
   "id": "55a610ed",
   "metadata": {},
   "source": [
    "--------------------------\n",
    "\n",
    "This notebook was written for the Erd&#337;s Institute C&#337;de Data Science Boot Camp by Matthew Osborne, Ph. D., 2023.\n",
    "\n",
    "Any potential redistributors must seek and receive permission from Matthew Tyler Osborne, Ph.D. prior to redistribution. Redistribution of the material contained in this repository is conditional on acknowledgement of Matthew Tyler Osborne, Ph.D.'s original authorship and sponsorship of the Erdős Institute as subject to the license (see License.md)"
   ]
  },
  {
   "cell_type": "code",
   "execution_count": null,
   "id": "c840cbf3",
   "metadata": {},
   "outputs": [],
   "source": []
  }
 ],
 "metadata": {
  "kernelspec": {
   "display_name": "Python 3 (ipykernel)",
   "language": "python",
   "name": "python3"
  },
  "language_info": {
   "codemirror_mode": {
    "name": "ipython",
    "version": 3
   },
   "file_extension": ".py",
   "mimetype": "text/x-python",
   "name": "python",
   "nbconvert_exporter": "python",
   "pygments_lexer": "ipython3",
   "version": "3.9.15"
  }
 },
 "nbformat": 4,
 "nbformat_minor": 5
}
