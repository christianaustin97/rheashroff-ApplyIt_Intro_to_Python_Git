{
 "cells": [
  {
   "cell_type": "markdown",
   "id": "ca19730e",
   "metadata": {},
   "source": [
    "# Basic `pandas`\n",
    "\n",
    "In this notebook we will learn about `pandas` a vital data management package in python.\n",
    "\n",
    "By the end of this notebook you will know about:\n",
    "- `pandas` `Series` and `DataFrame` objects,\n",
    "- Indexing `pandas` objects,\n",
    "- Reading files with `pandas`,\n",
    "- Saving files with `pandas` and \n",
    "- Some helpful `pandas` functionality."
   ]
  },
  {
   "cell_type": "markdown",
   "id": "c8a619cc",
   "metadata": {},
   "source": [
    "## `pandas`\n",
    "\n",
    "`pandas` is one of the most popular data handling packages in `python`. We will cover the minimum you need to know about the package for the boot camp in this notebook.\n",
    "\n",
    "Let's start by importing the package. Just like in the previous notebook this should check whether or not you have `pandas` installed on your machine. If you are using Anaconda, <a href=\"https://www.anaconda.com/\">https://www.anaconda.com/</a>, `pandas` should be installed already. If not check out the documentation for installation instructions <a href=\"https://pandas.pydata.org/docs/getting_started/install.html\">https://pandas.pydata.org/docs/getting_started/install.html</a>."
   ]
  },
  {
   "cell_type": "code",
   "execution_count": 1,
   "id": "aef32933",
   "metadata": {},
   "outputs": [],
   "source": [
    "## it is standard to import pandas as pd\n",
    "import pandas as pd"
   ]
  },
  {
   "cell_type": "code",
   "execution_count": 2,
   "id": "00bee740",
   "metadata": {},
   "outputs": [
    {
     "name": "stdout",
     "output_type": "stream",
     "text": [
      "1.5.3\n"
     ]
    }
   ],
   "source": [
    "## let's check what version of numpy you have\n",
    "## when I wrote this I had version 1.5.3\n",
    "## yours may be different\n",
    "print(pd.__version__)"
   ]
  },
  {
   "cell_type": "markdown",
   "id": "38271b29",
   "metadata": {},
   "source": [
    "If you had a version of `pandas` installed, both of those code chunks should have executed without error. If not, you will need to install it onto your machine because we will be using it heavily in the boot camp. If you are unsure how to install a python package in general check our python package installation guide, <a href=\"https://www.erdosinstitute.org/data-science\">https://www.erdosinstitute.org/data-science</a>.\n",
    "\n",
    "##### Be sure you can run both of the above code chunks before continuing with this notebook, again it should be fine if your package version is slightly different than mine."
   ]
  },
  {
   "cell_type": "markdown",
   "id": "c4c8f019",
   "metadata": {},
   "source": [
    "### `Series` and `DataFrame`s\n",
    "\n",
    "`pandas` has two main data structures: \n",
    "1. `Series` objects, <a href=\"https://pandas.pydata.org/docs/reference/api/pandas.Series.html\">https://pandas.pydata.org/docs/reference/api/pandas.Series.html</a> and \n",
    "2. `DataFrame` objects, <a href=\"https://pandas.pydata.org/docs/reference/api/pandas.DataFrame.html\">https://pandas.pydata.org/docs/reference/api/pandas.DataFrame.html</a>. \n",
    "\n",
    "Let's explore them below."
   ]
  },
  {
   "cell_type": "code",
   "execution_count": 3,
   "id": "810bf69b",
   "metadata": {},
   "outputs": [
    {
     "name": "stdout",
     "output_type": "stream",
     "text": [
      "Below is a list.\n",
      "[0, 1, 2, 3] <class 'list'>\n",
      "\n",
      "Below is a pandas Series object.\n",
      "0    0\n",
      "1    1\n",
      "2    2\n",
      "3    3\n",
      "dtype: int64 <class 'pandas.core.series.Series'>\n"
     ]
    }
   ],
   "source": [
    "## We can turn a list into a series\n",
    "## with pd.Series()\n",
    "list1 = [0,1,2,3]\n",
    "print(\"Below is a list.\")\n",
    "print(list1, type(list1))\n",
    "print()\n",
    "print(\"Below is a pandas Series object.\")\n",
    "print(pd.Series(list1), type(pd.Series(list1)))"
   ]
  },
  {
   "cell_type": "markdown",
   "id": "51cd1de8",
   "metadata": {},
   "source": [
    "The second thing we printed was a `Series` object. Note the two columns of numbers. The first column is the index of the object, the second column contains the values of the object. We can access those two separately like below."
   ]
  },
  {
   "cell_type": "code",
   "execution_count": 4,
   "id": "3d35bea5",
   "metadata": {},
   "outputs": [],
   "source": [
    "series1 = pd.Series(list1)"
   ]
  },
  {
   "cell_type": "code",
   "execution_count": 5,
   "id": "df928d3a",
   "metadata": {},
   "outputs": [
    {
     "data": {
      "text/plain": [
       "0    0\n",
       "1    1\n",
       "2    2\n",
       "3    3\n",
       "dtype: int64"
      ]
     },
     "execution_count": 5,
     "metadata": {},
     "output_type": "execute_result"
    }
   ],
   "source": [
    "series1"
   ]
  },
  {
   "cell_type": "code",
   "execution_count": 6,
   "id": "037c574c",
   "metadata": {},
   "outputs": [
    {
     "data": {
      "text/plain": [
       "RangeIndex(start=0, stop=4, step=1)"
      ]
     },
     "execution_count": 6,
     "metadata": {},
     "output_type": "execute_result"
    }
   ],
   "source": [
    "## The index\n",
    "series1.index"
   ]
  },
  {
   "cell_type": "code",
   "execution_count": 7,
   "id": "250e449b",
   "metadata": {},
   "outputs": [
    {
     "data": {
      "text/plain": [
       "array([0, 1, 2, 3])"
      ]
     },
     "execution_count": 7,
     "metadata": {},
     "output_type": "execute_result"
    }
   ],
   "source": [
    "## The values\n",
    "series1.values"
   ]
  },
  {
   "cell_type": "code",
   "execution_count": 8,
   "id": "958e56b2",
   "metadata": {},
   "outputs": [
    {
     "data": {
      "text/plain": [
       "0        5\n",
       "1        2\n",
       "2        3\n",
       "3        6\n",
       "4        a\n",
       "5        b\n",
       "6        e\n",
       "7     True\n",
       "8    False\n",
       "dtype: object"
      ]
     },
     "execution_count": 8,
     "metadata": {},
     "output_type": "execute_result"
    }
   ],
   "source": [
    "## You practice\n",
    "## Take the list labeled a and \n",
    "## turn it into a Series named b\n",
    "a = [5,2,3,6,'a','b','e',True,False]\n",
    "\n",
    "\n",
    "b = pd.Series(a)\n",
    "b"
   ]
  },
  {
   "cell_type": "code",
   "execution_count": 11,
   "id": "0f169d10",
   "metadata": {},
   "outputs": [
    {
     "data": {
      "text/plain": [
       "2"
      ]
     },
     "execution_count": 11,
     "metadata": {},
     "output_type": "execute_result"
    }
   ],
   "source": [
    "## We can get select entries from a Series \n",
    "## using the index\n",
    "series1[2]"
   ]
  },
  {
   "cell_type": "code",
   "execution_count": 12,
   "id": "9508b180",
   "metadata": {},
   "outputs": [
    {
     "name": "stdout",
     "output_type": "stream",
     "text": [
      "a    1\n",
      "b    2\n",
      "c    3\n",
      "d    4\n",
      "dtype: int64\n"
     ]
    }
   ],
   "source": [
    "## Note that we don't have to have our index be a list of numbers\n",
    "c = pd.Series([1,2,3,4], index=['a','b','c','d'])\n",
    "\n",
    "print(c)"
   ]
  },
  {
   "cell_type": "code",
   "execution_count": 15,
   "id": "9786bb80",
   "metadata": {},
   "outputs": [
    {
     "data": {
      "text/plain": [
       "1"
      ]
     },
     "execution_count": 15,
     "metadata": {},
     "output_type": "execute_result"
    }
   ],
   "source": [
    "## and we can access by index in the same way\n",
    "c['a']"
   ]
  },
  {
   "cell_type": "code",
   "execution_count": 16,
   "id": "248cd394",
   "metadata": {},
   "outputs": [
    {
     "data": {
      "text/plain": [
       "1"
      ]
     },
     "execution_count": 16,
     "metadata": {},
     "output_type": "execute_result"
    }
   ],
   "source": [
    "## can still access with integer based index as well\n",
    "c[0]"
   ]
  },
  {
   "cell_type": "markdown",
   "id": "d2aadf9d",
   "metadata": {},
   "source": [
    "Now let's check out a `DataFrame`. `DataFrame`s are essentially a collection of `Series` with a common index. We can also think of them as a table of values with column and row labels."
   ]
  },
  {
   "cell_type": "code",
   "execution_count": 17,
   "id": "24222f4a",
   "metadata": {},
   "outputs": [
    {
     "name": "stdout",
     "output_type": "stream",
     "text": [
      "   one two  third column\n",
      "0    3   a             7\n",
      "1    4   b             7\n",
      "2    5   e             7\n",
      "3    2   h             7\n",
      "4    4   l             7\n",
      "5    5   p             7\n"
     ]
    }
   ],
   "source": [
    "## We can make a DataFrame using a dictionary\n",
    "## the dictionary keys are the column labels\n",
    "## the dictionary values are columns\n",
    "df = pd.DataFrame({'one':[3,4,5,2,4,5], \n",
    "                    'two':['a','b','e','h','l','p'],\n",
    "                    'third column':[7,7,7,7,7,7]})\n",
    "\n",
    "## NOTE that this is not the only way to make \n",
    "## a dataframe!\n",
    "\n",
    "print(df)"
   ]
  },
  {
   "cell_type": "markdown",
   "id": "28cd92f3",
   "metadata": {},
   "source": [
    "This is a `DataFrame`, the unlabeled column is the index, the labeled columns are `Series` objects themselves. We can access them in the following way."
   ]
  },
  {
   "cell_type": "code",
   "execution_count": 18,
   "id": "2114870c",
   "metadata": {},
   "outputs": [
    {
     "name": "stdout",
     "output_type": "stream",
     "text": [
      "0    3\n",
      "1    4\n",
      "2    5\n",
      "3    2\n",
      "4    4\n",
      "5    5\n",
      "Name: one, dtype: int64\n",
      "\n",
      "Note that each column is a Series object.\n",
      "<class 'pandas.core.series.Series'>\n"
     ]
    }
   ],
   "source": [
    "## If your column's name doesn't violate a couple of format rules\n",
    "## you can use\n",
    "## df.column_name\n",
    "print(df.one) \n",
    "print()\n",
    "print(\"Note that each column is a Series object.\")\n",
    "print(type(df.one))"
   ]
  },
  {
   "cell_type": "code",
   "execution_count": 19,
   "id": "ca7e05eb",
   "metadata": {},
   "outputs": [
    {
     "ename": "SyntaxError",
     "evalue": "invalid syntax (40332708.py, line 4)",
     "output_type": "error",
     "traceback": [
      "\u001b[0;36m  Cell \u001b[0;32mIn[19], line 4\u001b[0;36m\u001b[0m\n\u001b[0;31m    df.third column\u001b[0m\n\u001b[0m             ^\u001b[0m\n\u001b[0;31mSyntaxError\u001b[0m\u001b[0;31m:\u001b[0m invalid syntax\n"
     ]
    }
   ],
   "source": [
    "## However if our column name has spaces or certain characters in it\n",
    "## (like . , ! ? \"\" and so on)\n",
    "## we can't use .column_name\n",
    "df.third column"
   ]
  },
  {
   "cell_type": "code",
   "execution_count": 20,
   "id": "1dfea85e",
   "metadata": {},
   "outputs": [
    {
     "data": {
      "text/plain": [
       "0    7\n",
       "1    7\n",
       "2    7\n",
       "3    7\n",
       "4    7\n",
       "5    7\n",
       "Name: third column, dtype: int64"
      ]
     },
     "execution_count": 20,
     "metadata": {},
     "output_type": "execute_result"
    }
   ],
   "source": [
    "## So we have to use df[\"column name\"] instead\n",
    "# or df['column_name']\n",
    "df['third column']"
   ]
  },
  {
   "cell_type": "code",
   "execution_count": 21,
   "id": "c81d39f6",
   "metadata": {},
   "outputs": [
    {
     "data": {
      "text/plain": [
       "RangeIndex(start=0, stop=6, step=1)"
      ]
     },
     "execution_count": 21,
     "metadata": {},
     "output_type": "execute_result"
    }
   ],
   "source": [
    "## Just like with a Series we can use .index\n",
    "## to get the index\n",
    "df.index"
   ]
  },
  {
   "cell_type": "code",
   "execution_count": 22,
   "id": "db5b59d4",
   "metadata": {},
   "outputs": [
    {
     "data": {
      "text/plain": [
       "array([[3, 'a', 7],\n",
       "       [4, 'b', 7],\n",
       "       [5, 'e', 7],\n",
       "       [2, 'h', 7],\n",
       "       [4, 'l', 7],\n",
       "       [5, 'p', 7]], dtype=object)"
      ]
     },
     "execution_count": 22,
     "metadata": {},
     "output_type": "execute_result"
    }
   ],
   "source": [
    "## .values returns a 2-D numpy ndarray with our columns\n",
    "df.values"
   ]
  },
  {
   "cell_type": "code",
   "execution_count": 23,
   "id": "fd35fe7c",
   "metadata": {},
   "outputs": [],
   "source": [
    "## You code\n",
    "## Make a data frame, call it my_df \n",
    "## Make the first column labeled 'first' from a\n",
    "## Make the second column labeled 'second' from b\n",
    "## see what happens when you add , index=range(10,10+len(a)) \n",
    "## after the dictionary\n",
    "a = [4,5,3,4,5,6,0]\n",
    "b = ['a','c','d','g','l','m','p']\n",
    "\n",
    "\n",
    "my_df = pd.DataFrame({'first':a,\n",
    "                         'second':b},\n",
    "                     index = range(10, 10+len(a)))"
   ]
  },
  {
   "cell_type": "code",
   "execution_count": 24,
   "id": "fe30ba04",
   "metadata": {},
   "outputs": [
    {
     "data": {
      "text/html": [
       "<div>\n",
       "<style scoped>\n",
       "    .dataframe tbody tr th:only-of-type {\n",
       "        vertical-align: middle;\n",
       "    }\n",
       "\n",
       "    .dataframe tbody tr th {\n",
       "        vertical-align: top;\n",
       "    }\n",
       "\n",
       "    .dataframe thead th {\n",
       "        text-align: right;\n",
       "    }\n",
       "</style>\n",
       "<table border=\"1\" class=\"dataframe\">\n",
       "  <thead>\n",
       "    <tr style=\"text-align: right;\">\n",
       "      <th></th>\n",
       "      <th>first</th>\n",
       "      <th>second</th>\n",
       "    </tr>\n",
       "  </thead>\n",
       "  <tbody>\n",
       "    <tr>\n",
       "      <th>10</th>\n",
       "      <td>4</td>\n",
       "      <td>a</td>\n",
       "    </tr>\n",
       "    <tr>\n",
       "      <th>11</th>\n",
       "      <td>5</td>\n",
       "      <td>c</td>\n",
       "    </tr>\n",
       "    <tr>\n",
       "      <th>12</th>\n",
       "      <td>3</td>\n",
       "      <td>d</td>\n",
       "    </tr>\n",
       "    <tr>\n",
       "      <th>13</th>\n",
       "      <td>4</td>\n",
       "      <td>g</td>\n",
       "    </tr>\n",
       "    <tr>\n",
       "      <th>14</th>\n",
       "      <td>5</td>\n",
       "      <td>l</td>\n",
       "    </tr>\n",
       "    <tr>\n",
       "      <th>15</th>\n",
       "      <td>6</td>\n",
       "      <td>m</td>\n",
       "    </tr>\n",
       "    <tr>\n",
       "      <th>16</th>\n",
       "      <td>0</td>\n",
       "      <td>p</td>\n",
       "    </tr>\n",
       "  </tbody>\n",
       "</table>\n",
       "</div>"
      ],
      "text/plain": [
       "    first second\n",
       "10      4      a\n",
       "11      5      c\n",
       "12      3      d\n",
       "13      4      g\n",
       "14      5      l\n",
       "15      6      m\n",
       "16      0      p"
      ]
     },
     "execution_count": 24,
     "metadata": {},
     "output_type": "execute_result"
    }
   ],
   "source": [
    "my_df"
   ]
  },
  {
   "cell_type": "markdown",
   "id": "8264a77c",
   "metadata": {},
   "source": [
    "#### Locating `DataFrame` Entries With the Index\n",
    "\n",
    "Locating entries in a `DataFrame` is slightly more complicated than what we had to do for `Series` objects."
   ]
  },
  {
   "cell_type": "code",
   "execution_count": 25,
   "id": "064a02e8",
   "metadata": {},
   "outputs": [
    {
     "ename": "KeyError",
     "evalue": "1",
     "output_type": "error",
     "traceback": [
      "\u001b[0;31m---------------------------------------------------------------------------\u001b[0m",
      "\u001b[0;31mKeyError\u001b[0m                                  Traceback (most recent call last)",
      "File \u001b[0;32m~/miniforge3/envs/home_env/lib/python3.9/site-packages/pandas/core/indexes/base.py:3802\u001b[0m, in \u001b[0;36mIndex.get_loc\u001b[0;34m(self, key, method, tolerance)\u001b[0m\n\u001b[1;32m   3801\u001b[0m \u001b[38;5;28;01mtry\u001b[39;00m:\n\u001b[0;32m-> 3802\u001b[0m     \u001b[38;5;28;01mreturn\u001b[39;00m \u001b[38;5;28;43mself\u001b[39;49m\u001b[38;5;241;43m.\u001b[39;49m\u001b[43m_engine\u001b[49m\u001b[38;5;241;43m.\u001b[39;49m\u001b[43mget_loc\u001b[49m\u001b[43m(\u001b[49m\u001b[43mcasted_key\u001b[49m\u001b[43m)\u001b[49m\n\u001b[1;32m   3803\u001b[0m \u001b[38;5;28;01mexcept\u001b[39;00m \u001b[38;5;167;01mKeyError\u001b[39;00m \u001b[38;5;28;01mas\u001b[39;00m err:\n",
      "File \u001b[0;32m~/miniforge3/envs/home_env/lib/python3.9/site-packages/pandas/_libs/index.pyx:138\u001b[0m, in \u001b[0;36mpandas._libs.index.IndexEngine.get_loc\u001b[0;34m()\u001b[0m\n",
      "File \u001b[0;32m~/miniforge3/envs/home_env/lib/python3.9/site-packages/pandas/_libs/index.pyx:165\u001b[0m, in \u001b[0;36mpandas._libs.index.IndexEngine.get_loc\u001b[0;34m()\u001b[0m\n",
      "File \u001b[0;32mpandas/_libs/hashtable_class_helper.pxi:5745\u001b[0m, in \u001b[0;36mpandas._libs.hashtable.PyObjectHashTable.get_item\u001b[0;34m()\u001b[0m\n",
      "File \u001b[0;32mpandas/_libs/hashtable_class_helper.pxi:5753\u001b[0m, in \u001b[0;36mpandas._libs.hashtable.PyObjectHashTable.get_item\u001b[0;34m()\u001b[0m\n",
      "\u001b[0;31mKeyError\u001b[0m: 1",
      "\nThe above exception was the direct cause of the following exception:\n",
      "\u001b[0;31mKeyError\u001b[0m                                  Traceback (most recent call last)",
      "Cell \u001b[0;32mIn[25], line 5\u001b[0m\n\u001b[1;32m      1\u001b[0m \u001b[38;5;66;03m## You code\u001b[39;00m\n\u001b[1;32m      2\u001b[0m \u001b[38;5;66;03m## try to index the dataframe df like you would\u001b[39;00m\n\u001b[1;32m      3\u001b[0m \u001b[38;5;66;03m## a list or Series to find the entry corresponding\u001b[39;00m\n\u001b[1;32m      4\u001b[0m \u001b[38;5;66;03m## to index 1\u001b[39;00m\n\u001b[0;32m----> 5\u001b[0m \u001b[43mdf\u001b[49m\u001b[43m[\u001b[49m\u001b[38;5;241;43m1\u001b[39;49m\u001b[43m]\u001b[49m\n\u001b[1;32m      7\u001b[0m \u001b[38;5;66;03m## What happens?\u001b[39;00m\n",
      "File \u001b[0;32m~/miniforge3/envs/home_env/lib/python3.9/site-packages/pandas/core/frame.py:3807\u001b[0m, in \u001b[0;36mDataFrame.__getitem__\u001b[0;34m(self, key)\u001b[0m\n\u001b[1;32m   3805\u001b[0m \u001b[38;5;28;01mif\u001b[39;00m \u001b[38;5;28mself\u001b[39m\u001b[38;5;241m.\u001b[39mcolumns\u001b[38;5;241m.\u001b[39mnlevels \u001b[38;5;241m>\u001b[39m \u001b[38;5;241m1\u001b[39m:\n\u001b[1;32m   3806\u001b[0m     \u001b[38;5;28;01mreturn\u001b[39;00m \u001b[38;5;28mself\u001b[39m\u001b[38;5;241m.\u001b[39m_getitem_multilevel(key)\n\u001b[0;32m-> 3807\u001b[0m indexer \u001b[38;5;241m=\u001b[39m \u001b[38;5;28;43mself\u001b[39;49m\u001b[38;5;241;43m.\u001b[39;49m\u001b[43mcolumns\u001b[49m\u001b[38;5;241;43m.\u001b[39;49m\u001b[43mget_loc\u001b[49m\u001b[43m(\u001b[49m\u001b[43mkey\u001b[49m\u001b[43m)\u001b[49m\n\u001b[1;32m   3808\u001b[0m \u001b[38;5;28;01mif\u001b[39;00m is_integer(indexer):\n\u001b[1;32m   3809\u001b[0m     indexer \u001b[38;5;241m=\u001b[39m [indexer]\n",
      "File \u001b[0;32m~/miniforge3/envs/home_env/lib/python3.9/site-packages/pandas/core/indexes/base.py:3804\u001b[0m, in \u001b[0;36mIndex.get_loc\u001b[0;34m(self, key, method, tolerance)\u001b[0m\n\u001b[1;32m   3802\u001b[0m     \u001b[38;5;28;01mreturn\u001b[39;00m \u001b[38;5;28mself\u001b[39m\u001b[38;5;241m.\u001b[39m_engine\u001b[38;5;241m.\u001b[39mget_loc(casted_key)\n\u001b[1;32m   3803\u001b[0m \u001b[38;5;28;01mexcept\u001b[39;00m \u001b[38;5;167;01mKeyError\u001b[39;00m \u001b[38;5;28;01mas\u001b[39;00m err:\n\u001b[0;32m-> 3804\u001b[0m     \u001b[38;5;28;01mraise\u001b[39;00m \u001b[38;5;167;01mKeyError\u001b[39;00m(key) \u001b[38;5;28;01mfrom\u001b[39;00m \u001b[38;5;21;01merr\u001b[39;00m\n\u001b[1;32m   3805\u001b[0m \u001b[38;5;28;01mexcept\u001b[39;00m \u001b[38;5;167;01mTypeError\u001b[39;00m:\n\u001b[1;32m   3806\u001b[0m     \u001b[38;5;66;03m# If we have a listlike key, _check_indexing_error will raise\u001b[39;00m\n\u001b[1;32m   3807\u001b[0m     \u001b[38;5;66;03m#  InvalidIndexError. Otherwise we fall through and re-raise\u001b[39;00m\n\u001b[1;32m   3808\u001b[0m     \u001b[38;5;66;03m#  the TypeError.\u001b[39;00m\n\u001b[1;32m   3809\u001b[0m     \u001b[38;5;28mself\u001b[39m\u001b[38;5;241m.\u001b[39m_check_indexing_error(key)\n",
      "\u001b[0;31mKeyError\u001b[0m: 1"
     ]
    }
   ],
   "source": [
    "## You code\n",
    "## try to index the dataframe df like you would\n",
    "## a list or Series to find the entry corresponding\n",
    "## to index 1\n",
    "df[1]\n",
    "\n",
    "## What happens?"
   ]
  },
  {
   "cell_type": "markdown",
   "id": "b6cccc35",
   "metadata": {},
   "source": [
    "In order to get particular `DataFrame` entries you have to use one of two methods, `.loc[]` or `.iloc[]`."
   ]
  },
  {
   "cell_type": "code",
   "execution_count": 26,
   "id": "047ff765",
   "metadata": {},
   "outputs": [
    {
     "data": {
      "text/html": [
       "<div>\n",
       "<style scoped>\n",
       "    .dataframe tbody tr th:only-of-type {\n",
       "        vertical-align: middle;\n",
       "    }\n",
       "\n",
       "    .dataframe tbody tr th {\n",
       "        vertical-align: top;\n",
       "    }\n",
       "\n",
       "    .dataframe thead th {\n",
       "        text-align: right;\n",
       "    }\n",
       "</style>\n",
       "<table border=\"1\" class=\"dataframe\">\n",
       "  <thead>\n",
       "    <tr style=\"text-align: right;\">\n",
       "      <th></th>\n",
       "      <th>one</th>\n",
       "      <th>two</th>\n",
       "      <th>third column</th>\n",
       "    </tr>\n",
       "  </thead>\n",
       "  <tbody>\n",
       "    <tr>\n",
       "      <th>0</th>\n",
       "      <td>3</td>\n",
       "      <td>a</td>\n",
       "      <td>7</td>\n",
       "    </tr>\n",
       "    <tr>\n",
       "      <th>1</th>\n",
       "      <td>4</td>\n",
       "      <td>b</td>\n",
       "      <td>7</td>\n",
       "    </tr>\n",
       "    <tr>\n",
       "      <th>2</th>\n",
       "      <td>5</td>\n",
       "      <td>e</td>\n",
       "      <td>7</td>\n",
       "    </tr>\n",
       "    <tr>\n",
       "      <th>3</th>\n",
       "      <td>2</td>\n",
       "      <td>h</td>\n",
       "      <td>7</td>\n",
       "    </tr>\n",
       "    <tr>\n",
       "      <th>4</th>\n",
       "      <td>4</td>\n",
       "      <td>l</td>\n",
       "      <td>7</td>\n",
       "    </tr>\n",
       "    <tr>\n",
       "      <th>5</th>\n",
       "      <td>5</td>\n",
       "      <td>p</td>\n",
       "      <td>7</td>\n",
       "    </tr>\n",
       "  </tbody>\n",
       "</table>\n",
       "</div>"
      ],
      "text/plain": [
       "   one two  third column\n",
       "0    3   a             7\n",
       "1    4   b             7\n",
       "2    5   e             7\n",
       "3    2   h             7\n",
       "4    4   l             7\n",
       "5    5   p             7"
      ]
     },
     "execution_count": 26,
     "metadata": {},
     "output_type": "execute_result"
    }
   ],
   "source": [
    "df"
   ]
  },
  {
   "cell_type": "code",
   "execution_count": 27,
   "id": "f5619cfe",
   "metadata": {},
   "outputs": [
    {
     "data": {
      "text/plain": [
       "one             4\n",
       "two             b\n",
       "third column    7\n",
       "Name: 1, dtype: object"
      ]
     },
     "execution_count": 27,
     "metadata": {},
     "output_type": "execute_result"
    }
   ],
   "source": [
    "## for example we can get the 1 row of df like so with loc\n",
    "df.loc[1]"
   ]
  },
  {
   "cell_type": "code",
   "execution_count": 28,
   "id": "1bc6a872",
   "metadata": {},
   "outputs": [
    {
     "data": {
      "text/plain": [
       "one             4\n",
       "two             b\n",
       "third column    7\n",
       "Name: 1, dtype: object"
      ]
     },
     "execution_count": 28,
     "metadata": {},
     "output_type": "execute_result"
    }
   ],
   "source": [
    "## or like so with iloc\n",
    "df.iloc[1]"
   ]
  },
  {
   "cell_type": "markdown",
   "id": "e7e6baa5",
   "metadata": {},
   "source": [
    "The difference between `.loc` and `.iloc` is that `.iloc` is restricted to integer based indexing, while `.loc` is more versatile.\n",
    "\n",
    "This means that if your index is a list of strings you cannot use `.iloc` with just the index's normal value. For example try to run the following."
   ]
  },
  {
   "cell_type": "code",
   "execution_count": 29,
   "id": "b38e67d1",
   "metadata": {},
   "outputs": [
    {
     "data": {
      "text/plain": [
       "a    1\n",
       "b    2\n",
       "c    3\n",
       "d    4\n",
       "dtype: int64"
      ]
     },
     "execution_count": 29,
     "metadata": {},
     "output_type": "execute_result"
    }
   ],
   "source": [
    "## Recall what c is\n",
    "c"
   ]
  },
  {
   "cell_type": "code",
   "execution_count": 30,
   "id": "22ba8011",
   "metadata": {},
   "outputs": [
    {
     "ename": "TypeError",
     "evalue": "Cannot index by location index with a non-integer key",
     "output_type": "error",
     "traceback": [
      "\u001b[0;31m---------------------------------------------------------------------------\u001b[0m",
      "\u001b[0;31mTypeError\u001b[0m                                 Traceback (most recent call last)",
      "Cell \u001b[0;32mIn[30], line 2\u001b[0m\n\u001b[1;32m      1\u001b[0m \u001b[38;5;66;03m## now try to get the ath entry using .iloc\u001b[39;00m\n\u001b[0;32m----> 2\u001b[0m \u001b[43mc\u001b[49m\u001b[38;5;241;43m.\u001b[39;49m\u001b[43miloc\u001b[49m\u001b[43m[\u001b[49m\u001b[38;5;124;43m\"\u001b[39;49m\u001b[38;5;124;43ma\u001b[39;49m\u001b[38;5;124;43m\"\u001b[39;49m\u001b[43m]\u001b[49m\n",
      "File \u001b[0;32m~/miniforge3/envs/home_env/lib/python3.9/site-packages/pandas/core/indexing.py:1073\u001b[0m, in \u001b[0;36m_LocationIndexer.__getitem__\u001b[0;34m(self, key)\u001b[0m\n\u001b[1;32m   1070\u001b[0m axis \u001b[38;5;241m=\u001b[39m \u001b[38;5;28mself\u001b[39m\u001b[38;5;241m.\u001b[39maxis \u001b[38;5;129;01mor\u001b[39;00m \u001b[38;5;241m0\u001b[39m\n\u001b[1;32m   1072\u001b[0m maybe_callable \u001b[38;5;241m=\u001b[39m com\u001b[38;5;241m.\u001b[39mapply_if_callable(key, \u001b[38;5;28mself\u001b[39m\u001b[38;5;241m.\u001b[39mobj)\n\u001b[0;32m-> 1073\u001b[0m \u001b[38;5;28;01mreturn\u001b[39;00m \u001b[38;5;28;43mself\u001b[39;49m\u001b[38;5;241;43m.\u001b[39;49m\u001b[43m_getitem_axis\u001b[49m\u001b[43m(\u001b[49m\u001b[43mmaybe_callable\u001b[49m\u001b[43m,\u001b[49m\u001b[43m \u001b[49m\u001b[43maxis\u001b[49m\u001b[38;5;241;43m=\u001b[39;49m\u001b[43maxis\u001b[49m\u001b[43m)\u001b[49m\n",
      "File \u001b[0;32m~/miniforge3/envs/home_env/lib/python3.9/site-packages/pandas/core/indexing.py:1622\u001b[0m, in \u001b[0;36m_iLocIndexer._getitem_axis\u001b[0;34m(self, key, axis)\u001b[0m\n\u001b[1;32m   1620\u001b[0m key \u001b[38;5;241m=\u001b[39m item_from_zerodim(key)\n\u001b[1;32m   1621\u001b[0m \u001b[38;5;28;01mif\u001b[39;00m \u001b[38;5;129;01mnot\u001b[39;00m is_integer(key):\n\u001b[0;32m-> 1622\u001b[0m     \u001b[38;5;28;01mraise\u001b[39;00m \u001b[38;5;167;01mTypeError\u001b[39;00m(\u001b[38;5;124m\"\u001b[39m\u001b[38;5;124mCannot index by location index with a non-integer key\u001b[39m\u001b[38;5;124m\"\u001b[39m)\n\u001b[1;32m   1624\u001b[0m \u001b[38;5;66;03m# validate the location\u001b[39;00m\n\u001b[1;32m   1625\u001b[0m \u001b[38;5;28mself\u001b[39m\u001b[38;5;241m.\u001b[39m_validate_integer(key, axis)\n",
      "\u001b[0;31mTypeError\u001b[0m: Cannot index by location index with a non-integer key"
     ]
    }
   ],
   "source": [
    "## now try to get the ath entry using .iloc\n",
    "c.iloc[\"a\"]"
   ]
  },
  {
   "cell_type": "code",
   "execution_count": 31,
   "id": "6efab017",
   "metadata": {},
   "outputs": [
    {
     "data": {
      "text/plain": [
       "1"
      ]
     },
     "execution_count": 31,
     "metadata": {},
     "output_type": "execute_result"
    }
   ],
   "source": [
    "## instead we'd have to notice that the \"a\" entry is\n",
    "## the 0 entry if the index were a normal integer based index\n",
    "c.iloc[0]"
   ]
  },
  {
   "cell_type": "code",
   "execution_count": 32,
   "id": "0c790251",
   "metadata": {},
   "outputs": [
    {
     "data": {
      "text/plain": [
       "1"
      ]
     },
     "execution_count": 32,
     "metadata": {},
     "output_type": "execute_result"
    }
   ],
   "source": [
    "## However, we can just insert \"a\" into .loc\n",
    "c.loc[\"a\"]"
   ]
  },
  {
   "cell_type": "markdown",
   "id": "b5b21c6b",
   "metadata": {},
   "source": [
    "Another difference is that `.loc` can be used to perform boolean indexing (eg. find me all the rows where the first column is between $2$ and $4$)"
   ]
  },
  {
   "cell_type": "code",
   "execution_count": 35,
   "id": "2dcb35f2",
   "metadata": {},
   "outputs": [
    {
     "data": {
      "text/html": [
       "<div>\n",
       "<style scoped>\n",
       "    .dataframe tbody tr th:only-of-type {\n",
       "        vertical-align: middle;\n",
       "    }\n",
       "\n",
       "    .dataframe tbody tr th {\n",
       "        vertical-align: top;\n",
       "    }\n",
       "\n",
       "    .dataframe thead th {\n",
       "        text-align: right;\n",
       "    }\n",
       "</style>\n",
       "<table border=\"1\" class=\"dataframe\">\n",
       "  <thead>\n",
       "    <tr style=\"text-align: right;\">\n",
       "      <th></th>\n",
       "      <th>one</th>\n",
       "      <th>two</th>\n",
       "      <th>third column</th>\n",
       "    </tr>\n",
       "  </thead>\n",
       "  <tbody>\n",
       "    <tr>\n",
       "      <th>0</th>\n",
       "      <td>3</td>\n",
       "      <td>a</td>\n",
       "      <td>7</td>\n",
       "    </tr>\n",
       "    <tr>\n",
       "      <th>1</th>\n",
       "      <td>4</td>\n",
       "      <td>b</td>\n",
       "      <td>7</td>\n",
       "    </tr>\n",
       "    <tr>\n",
       "      <th>2</th>\n",
       "      <td>5</td>\n",
       "      <td>e</td>\n",
       "      <td>7</td>\n",
       "    </tr>\n",
       "    <tr>\n",
       "      <th>3</th>\n",
       "      <td>2</td>\n",
       "      <td>h</td>\n",
       "      <td>7</td>\n",
       "    </tr>\n",
       "    <tr>\n",
       "      <th>4</th>\n",
       "      <td>4</td>\n",
       "      <td>l</td>\n",
       "      <td>7</td>\n",
       "    </tr>\n",
       "    <tr>\n",
       "      <th>5</th>\n",
       "      <td>5</td>\n",
       "      <td>p</td>\n",
       "      <td>7</td>\n",
       "    </tr>\n",
       "  </tbody>\n",
       "</table>\n",
       "</div>"
      ],
      "text/plain": [
       "   one two  third column\n",
       "0    3   a             7\n",
       "1    4   b             7\n",
       "2    5   e             7\n",
       "3    2   h             7\n",
       "4    4   l             7\n",
       "5    5   p             7"
      ]
     },
     "execution_count": 35,
     "metadata": {},
     "output_type": "execute_result"
    }
   ],
   "source": [
    "df"
   ]
  },
  {
   "cell_type": "code",
   "execution_count": 34,
   "id": "e9a4f63c",
   "metadata": {},
   "outputs": [
    {
     "data": {
      "text/html": [
       "<div>\n",
       "<style scoped>\n",
       "    .dataframe tbody tr th:only-of-type {\n",
       "        vertical-align: middle;\n",
       "    }\n",
       "\n",
       "    .dataframe tbody tr th {\n",
       "        vertical-align: top;\n",
       "    }\n",
       "\n",
       "    .dataframe thead th {\n",
       "        text-align: right;\n",
       "    }\n",
       "</style>\n",
       "<table border=\"1\" class=\"dataframe\">\n",
       "  <thead>\n",
       "    <tr style=\"text-align: right;\">\n",
       "      <th></th>\n",
       "      <th>one</th>\n",
       "      <th>two</th>\n",
       "      <th>third column</th>\n",
       "    </tr>\n",
       "  </thead>\n",
       "  <tbody>\n",
       "    <tr>\n",
       "      <th>0</th>\n",
       "      <td>3</td>\n",
       "      <td>a</td>\n",
       "      <td>7</td>\n",
       "    </tr>\n",
       "  </tbody>\n",
       "</table>\n",
       "</div>"
      ],
      "text/plain": [
       "   one two  third column\n",
       "0    3   a             7"
      ]
     },
     "execution_count": 34,
     "metadata": {},
     "output_type": "execute_result"
    }
   ],
   "source": [
    "## give me all the rows where the \"one\" column is between 2 and 4\n",
    "\n",
    "## Notice\n",
    "## unique logical conditions must be contained in parentheses\n",
    "## when using more than one logical condition\n",
    "df.loc[(df.one > 2) & (df.one < 4)]"
   ]
  },
  {
   "cell_type": "code",
   "execution_count": 36,
   "id": "7e416d12",
   "metadata": {},
   "outputs": [
    {
     "data": {
      "text/plain": [
       "0    7\n",
       "Name: third column, dtype: int64"
      ]
     },
     "execution_count": 36,
     "metadata": {},
     "output_type": "execute_result"
    }
   ],
   "source": [
    "## we can even go one step further and find a specific column\n",
    "df.loc[(df.one > 2) & (df.one < 4), 'third column']"
   ]
  },
  {
   "cell_type": "code",
   "execution_count": 37,
   "id": "f98dd15d",
   "metadata": {},
   "outputs": [
    {
     "data": {
      "text/html": [
       "<div>\n",
       "<style scoped>\n",
       "    .dataframe tbody tr th:only-of-type {\n",
       "        vertical-align: middle;\n",
       "    }\n",
       "\n",
       "    .dataframe tbody tr th {\n",
       "        vertical-align: top;\n",
       "    }\n",
       "\n",
       "    .dataframe thead th {\n",
       "        text-align: right;\n",
       "    }\n",
       "</style>\n",
       "<table border=\"1\" class=\"dataframe\">\n",
       "  <thead>\n",
       "    <tr style=\"text-align: right;\">\n",
       "      <th></th>\n",
       "      <th>two</th>\n",
       "      <th>third column</th>\n",
       "    </tr>\n",
       "  </thead>\n",
       "  <tbody>\n",
       "    <tr>\n",
       "      <th>0</th>\n",
       "      <td>a</td>\n",
       "      <td>7</td>\n",
       "    </tr>\n",
       "  </tbody>\n",
       "</table>\n",
       "</div>"
      ],
      "text/plain": [
       "  two  third column\n",
       "0   a             7"
      ]
     },
     "execution_count": 37,
     "metadata": {},
     "output_type": "execute_result"
    }
   ],
   "source": [
    "## or a subset of many columns\n",
    "## in this case you enter the subset as a list of column name strings\n",
    "df.loc[(df.one > 2) & (df.one < 4), ['two', 'third column']]"
   ]
  },
  {
   "cell_type": "code",
   "execution_count": 38,
   "id": "5eb62dbe",
   "metadata": {},
   "outputs": [
    {
     "data": {
      "text/html": [
       "<div>\n",
       "<style scoped>\n",
       "    .dataframe tbody tr th:only-of-type {\n",
       "        vertical-align: middle;\n",
       "    }\n",
       "\n",
       "    .dataframe tbody tr th {\n",
       "        vertical-align: top;\n",
       "    }\n",
       "\n",
       "    .dataframe thead th {\n",
       "        text-align: right;\n",
       "    }\n",
       "</style>\n",
       "<table border=\"1\" class=\"dataframe\">\n",
       "  <thead>\n",
       "    <tr style=\"text-align: right;\">\n",
       "      <th></th>\n",
       "      <th>third column</th>\n",
       "      <th>two</th>\n",
       "    </tr>\n",
       "  </thead>\n",
       "  <tbody>\n",
       "    <tr>\n",
       "      <th>0</th>\n",
       "      <td>7</td>\n",
       "      <td>a</td>\n",
       "    </tr>\n",
       "  </tbody>\n",
       "</table>\n",
       "</div>"
      ],
      "text/plain": [
       "   third column two\n",
       "0             7   a"
      ]
     },
     "execution_count": 38,
     "metadata": {},
     "output_type": "execute_result"
    }
   ],
   "source": [
    "## order of columns can even be different from dataframe\n",
    "df.loc[(df.one < 4) & (df.one > 2), ['third column','two']]"
   ]
  },
  {
   "cell_type": "code",
   "execution_count": 39,
   "id": "ebfa6f02",
   "metadata": {},
   "outputs": [
    {
     "data": {
      "text/html": [
       "<div>\n",
       "<style scoped>\n",
       "    .dataframe tbody tr th:only-of-type {\n",
       "        vertical-align: middle;\n",
       "    }\n",
       "\n",
       "    .dataframe tbody tr th {\n",
       "        vertical-align: top;\n",
       "    }\n",
       "\n",
       "    .dataframe thead th {\n",
       "        text-align: right;\n",
       "    }\n",
       "</style>\n",
       "<table border=\"1\" class=\"dataframe\">\n",
       "  <thead>\n",
       "    <tr style=\"text-align: right;\">\n",
       "      <th></th>\n",
       "      <th>third column</th>\n",
       "      <th>two</th>\n",
       "    </tr>\n",
       "  </thead>\n",
       "  <tbody>\n",
       "    <tr>\n",
       "      <th>0</th>\n",
       "      <td>7</td>\n",
       "      <td>a</td>\n",
       "    </tr>\n",
       "    <tr>\n",
       "      <th>1</th>\n",
       "      <td>7</td>\n",
       "      <td>b</td>\n",
       "    </tr>\n",
       "    <tr>\n",
       "      <th>2</th>\n",
       "      <td>7</td>\n",
       "      <td>e</td>\n",
       "    </tr>\n",
       "    <tr>\n",
       "      <th>3</th>\n",
       "      <td>7</td>\n",
       "      <td>h</td>\n",
       "    </tr>\n",
       "    <tr>\n",
       "      <th>4</th>\n",
       "      <td>7</td>\n",
       "      <td>l</td>\n",
       "    </tr>\n",
       "    <tr>\n",
       "      <th>5</th>\n",
       "      <td>7</td>\n",
       "      <td>p</td>\n",
       "    </tr>\n",
       "  </tbody>\n",
       "</table>\n",
       "</div>"
      ],
      "text/plain": [
       "   third column two\n",
       "0             7   a\n",
       "1             7   b\n",
       "2             7   e\n",
       "3             7   h\n",
       "4             7   l\n",
       "5             7   p"
      ]
     },
     "execution_count": 39,
     "metadata": {},
     "output_type": "execute_result"
    }
   ],
   "source": [
    "## also can provide multiple columns in df[]\n",
    "df[['third column', 'two']]"
   ]
  },
  {
   "cell_type": "markdown",
   "id": "3517e913",
   "metadata": {},
   "source": [
    "### Reading in a `.csv` file with `pandas`\n",
    "\n",
    "You can also read in common data file types with `pandas`. Let's load the following."
   ]
  },
  {
   "cell_type": "code",
   "execution_count": 40,
   "id": "33aa384c",
   "metadata": {},
   "outputs": [],
   "source": [
    "## You can read in a csv with\n",
    "## pd.read_csv(\"filename.csv\")\n",
    "## https://pandas.pydata.org/docs/reference/api/pandas.read_csv.html\n",
    "\n",
    "## We'll work with the following dataframe in the next section\n",
    "jr_shots = pd.read_csv(\"../data/JR_Smith_Shots_2015_16.csv\")"
   ]
  },
  {
   "cell_type": "code",
   "execution_count": 41,
   "id": "13571983",
   "metadata": {},
   "outputs": [
    {
     "data": {
      "text/html": [
       "<div>\n",
       "<style scoped>\n",
       "    .dataframe tbody tr th:only-of-type {\n",
       "        vertical-align: middle;\n",
       "    }\n",
       "\n",
       "    .dataframe tbody tr th {\n",
       "        vertical-align: top;\n",
       "    }\n",
       "\n",
       "    .dataframe thead th {\n",
       "        text-align: right;\n",
       "    }\n",
       "</style>\n",
       "<table border=\"1\" class=\"dataframe\">\n",
       "  <thead>\n",
       "    <tr style=\"text-align: right;\">\n",
       "      <th></th>\n",
       "      <th>LOC_X</th>\n",
       "      <th>LOC_Y</th>\n",
       "      <th>SHOT_MADE_FLAG</th>\n",
       "    </tr>\n",
       "  </thead>\n",
       "  <tbody>\n",
       "    <tr>\n",
       "      <th>0</th>\n",
       "      <td>-106</td>\n",
       "      <td>244</td>\n",
       "      <td>0</td>\n",
       "    </tr>\n",
       "    <tr>\n",
       "      <th>1</th>\n",
       "      <td>-96</td>\n",
       "      <td>97</td>\n",
       "      <td>0</td>\n",
       "    </tr>\n",
       "    <tr>\n",
       "      <th>2</th>\n",
       "      <td>30</td>\n",
       "      <td>23</td>\n",
       "      <td>0</td>\n",
       "    </tr>\n",
       "    <tr>\n",
       "      <th>3</th>\n",
       "      <td>-204</td>\n",
       "      <td>-1</td>\n",
       "      <td>0</td>\n",
       "    </tr>\n",
       "    <tr>\n",
       "      <th>4</th>\n",
       "      <td>-76</td>\n",
       "      <td>237</td>\n",
       "      <td>0</td>\n",
       "    </tr>\n",
       "    <tr>\n",
       "      <th>...</th>\n",
       "      <td>...</td>\n",
       "      <td>...</td>\n",
       "      <td>...</td>\n",
       "    </tr>\n",
       "    <tr>\n",
       "      <th>844</th>\n",
       "      <td>145</td>\n",
       "      <td>-15</td>\n",
       "      <td>0</td>\n",
       "    </tr>\n",
       "    <tr>\n",
       "      <th>845</th>\n",
       "      <td>-241</td>\n",
       "      <td>67</td>\n",
       "      <td>0</td>\n",
       "    </tr>\n",
       "    <tr>\n",
       "      <th>846</th>\n",
       "      <td>164</td>\n",
       "      <td>195</td>\n",
       "      <td>0</td>\n",
       "    </tr>\n",
       "    <tr>\n",
       "      <th>847</th>\n",
       "      <td>0</td>\n",
       "      <td>1</td>\n",
       "      <td>1</td>\n",
       "    </tr>\n",
       "    <tr>\n",
       "      <th>848</th>\n",
       "      <td>-89</td>\n",
       "      <td>288</td>\n",
       "      <td>0</td>\n",
       "    </tr>\n",
       "  </tbody>\n",
       "</table>\n",
       "<p>849 rows × 3 columns</p>\n",
       "</div>"
      ],
      "text/plain": [
       "     LOC_X  LOC_Y  SHOT_MADE_FLAG\n",
       "0     -106    244               0\n",
       "1      -96     97               0\n",
       "2       30     23               0\n",
       "3     -204     -1               0\n",
       "4      -76    237               0\n",
       "..     ...    ...             ...\n",
       "844    145    -15               0\n",
       "845   -241     67               0\n",
       "846    164    195               0\n",
       "847      0      1               1\n",
       "848    -89    288               0\n",
       "\n",
       "[849 rows x 3 columns]"
      ]
     },
     "execution_count": 41,
     "metadata": {},
     "output_type": "execute_result"
    }
   ],
   "source": [
    "jr_shots"
   ]
  },
  {
   "cell_type": "code",
   "execution_count": 42,
   "id": "37b34aa6",
   "metadata": {},
   "outputs": [],
   "source": [
    "## You code\n",
    "## read in the file \"beer.csv\" in the data folder using pandas\n",
    "## call it beer_df\n",
    "beer_df = pd.read_csv(\"../data/beer.csv\")\n",
    "\n",
    "\n",
    "## you'll practice with this dataframe in the next section"
   ]
  },
  {
   "cell_type": "code",
   "execution_count": 43,
   "id": "2ac1b7f6",
   "metadata": {},
   "outputs": [
    {
     "data": {
      "text/html": [
       "<div>\n",
       "<style scoped>\n",
       "    .dataframe tbody tr th:only-of-type {\n",
       "        vertical-align: middle;\n",
       "    }\n",
       "\n",
       "    .dataframe tbody tr th {\n",
       "        vertical-align: top;\n",
       "    }\n",
       "\n",
       "    .dataframe thead th {\n",
       "        text-align: right;\n",
       "    }\n",
       "</style>\n",
       "<table border=\"1\" class=\"dataframe\">\n",
       "  <thead>\n",
       "    <tr style=\"text-align: right;\">\n",
       "      <th></th>\n",
       "      <th>IBU</th>\n",
       "      <th>ABV</th>\n",
       "      <th>Rating</th>\n",
       "      <th>Beer_Type</th>\n",
       "    </tr>\n",
       "  </thead>\n",
       "  <tbody>\n",
       "    <tr>\n",
       "      <th>0</th>\n",
       "      <td>45</td>\n",
       "      <td>4.2</td>\n",
       "      <td>3.792</td>\n",
       "      <td>Stout</td>\n",
       "    </tr>\n",
       "    <tr>\n",
       "      <th>1</th>\n",
       "      <td>60</td>\n",
       "      <td>8.3</td>\n",
       "      <td>4.145</td>\n",
       "      <td>Stout</td>\n",
       "    </tr>\n",
       "    <tr>\n",
       "      <th>2</th>\n",
       "      <td>25</td>\n",
       "      <td>6.0</td>\n",
       "      <td>3.951</td>\n",
       "      <td>Stout</td>\n",
       "    </tr>\n",
       "    <tr>\n",
       "      <th>3</th>\n",
       "      <td>31</td>\n",
       "      <td>11.0</td>\n",
       "      <td>4.062</td>\n",
       "      <td>Stout</td>\n",
       "    </tr>\n",
       "    <tr>\n",
       "      <th>4</th>\n",
       "      <td>75</td>\n",
       "      <td>9.0</td>\n",
       "      <td>4.018</td>\n",
       "      <td>Stout</td>\n",
       "    </tr>\n",
       "    <tr>\n",
       "      <th>...</th>\n",
       "      <td>...</td>\n",
       "      <td>...</td>\n",
       "      <td>...</td>\n",
       "      <td>...</td>\n",
       "    </tr>\n",
       "    <tr>\n",
       "      <th>342</th>\n",
       "      <td>68</td>\n",
       "      <td>8.2</td>\n",
       "      <td>3.922</td>\n",
       "      <td>IPA</td>\n",
       "    </tr>\n",
       "    <tr>\n",
       "      <th>343</th>\n",
       "      <td>45</td>\n",
       "      <td>6.8</td>\n",
       "      <td>4.000</td>\n",
       "      <td>IPA</td>\n",
       "    </tr>\n",
       "    <tr>\n",
       "      <th>344</th>\n",
       "      <td>101</td>\n",
       "      <td>9.2</td>\n",
       "      <td>3.778</td>\n",
       "      <td>IPA</td>\n",
       "    </tr>\n",
       "    <tr>\n",
       "      <th>345</th>\n",
       "      <td>70</td>\n",
       "      <td>6.8</td>\n",
       "      <td>4.015</td>\n",
       "      <td>IPA</td>\n",
       "    </tr>\n",
       "    <tr>\n",
       "      <th>346</th>\n",
       "      <td>80</td>\n",
       "      <td>6.9</td>\n",
       "      <td>3.554</td>\n",
       "      <td>IPA</td>\n",
       "    </tr>\n",
       "  </tbody>\n",
       "</table>\n",
       "<p>347 rows × 4 columns</p>\n",
       "</div>"
      ],
      "text/plain": [
       "     IBU   ABV  Rating Beer_Type\n",
       "0     45   4.2   3.792     Stout\n",
       "1     60   8.3   4.145     Stout\n",
       "2     25   6.0   3.951     Stout\n",
       "3     31  11.0   4.062     Stout\n",
       "4     75   9.0   4.018     Stout\n",
       "..   ...   ...     ...       ...\n",
       "342   68   8.2   3.922       IPA\n",
       "343   45   6.8   4.000       IPA\n",
       "344  101   9.2   3.778       IPA\n",
       "345   70   6.8   4.015       IPA\n",
       "346   80   6.9   3.554       IPA\n",
       "\n",
       "[347 rows x 4 columns]"
      ]
     },
     "execution_count": 43,
     "metadata": {},
     "output_type": "execute_result"
    }
   ],
   "source": [
    "beer_df"
   ]
  },
  {
   "cell_type": "markdown",
   "id": "54227e89",
   "metadata": {},
   "source": [
    "There are other useful `read` functions like `read_table` and `read_json`, you will see those later."
   ]
  },
  {
   "cell_type": "markdown",
   "id": "0ff2d34a",
   "metadata": {},
   "source": [
    "### Helpful `pandas` functions\n",
    "\n",
    "`pandas` offers some really nice built in functions to help you explore any data set you're dealing with. Let's explore them below."
   ]
  },
  {
   "cell_type": "code",
   "execution_count": 46,
   "id": "263dde45",
   "metadata": {},
   "outputs": [
    {
     "data": {
      "text/html": [
       "<div>\n",
       "<style scoped>\n",
       "    .dataframe tbody tr th:only-of-type {\n",
       "        vertical-align: middle;\n",
       "    }\n",
       "\n",
       "    .dataframe tbody tr th {\n",
       "        vertical-align: top;\n",
       "    }\n",
       "\n",
       "    .dataframe thead th {\n",
       "        text-align: right;\n",
       "    }\n",
       "</style>\n",
       "<table border=\"1\" class=\"dataframe\">\n",
       "  <thead>\n",
       "    <tr style=\"text-align: right;\">\n",
       "      <th></th>\n",
       "      <th>LOC_X</th>\n",
       "      <th>LOC_Y</th>\n",
       "      <th>SHOT_MADE_FLAG</th>\n",
       "    </tr>\n",
       "  </thead>\n",
       "  <tbody>\n",
       "    <tr>\n",
       "      <th>0</th>\n",
       "      <td>-106</td>\n",
       "      <td>244</td>\n",
       "      <td>0</td>\n",
       "    </tr>\n",
       "    <tr>\n",
       "      <th>1</th>\n",
       "      <td>-96</td>\n",
       "      <td>97</td>\n",
       "      <td>0</td>\n",
       "    </tr>\n",
       "    <tr>\n",
       "      <th>2</th>\n",
       "      <td>30</td>\n",
       "      <td>23</td>\n",
       "      <td>0</td>\n",
       "    </tr>\n",
       "    <tr>\n",
       "      <th>3</th>\n",
       "      <td>-204</td>\n",
       "      <td>-1</td>\n",
       "      <td>0</td>\n",
       "    </tr>\n",
       "    <tr>\n",
       "      <th>4</th>\n",
       "      <td>-76</td>\n",
       "      <td>237</td>\n",
       "      <td>0</td>\n",
       "    </tr>\n",
       "  </tbody>\n",
       "</table>\n",
       "</div>"
      ],
      "text/plain": [
       "   LOC_X  LOC_Y  SHOT_MADE_FLAG\n",
       "0   -106    244               0\n",
       "1    -96     97               0\n",
       "2     30     23               0\n",
       "3   -204     -1               0\n",
       "4    -76    237               0"
      ]
     },
     "execution_count": 46,
     "metadata": {},
     "output_type": "execute_result"
    }
   ],
   "source": [
    "## df.head(n) let's you inspect the first n rows of the dataframe\n",
    "## n defaults to 5\n",
    "## https://pandas.pydata.org/docs/reference/api/pandas.DataFrame.head.html\n",
    "jr_shots.head()"
   ]
  },
  {
   "cell_type": "code",
   "execution_count": 49,
   "id": "9f53ce63",
   "metadata": {},
   "outputs": [
    {
     "data": {
      "text/html": [
       "<div>\n",
       "<style scoped>\n",
       "    .dataframe tbody tr th:only-of-type {\n",
       "        vertical-align: middle;\n",
       "    }\n",
       "\n",
       "    .dataframe tbody tr th {\n",
       "        vertical-align: top;\n",
       "    }\n",
       "\n",
       "    .dataframe thead th {\n",
       "        text-align: right;\n",
       "    }\n",
       "</style>\n",
       "<table border=\"1\" class=\"dataframe\">\n",
       "  <thead>\n",
       "    <tr style=\"text-align: right;\">\n",
       "      <th></th>\n",
       "      <th>IBU</th>\n",
       "      <th>ABV</th>\n",
       "      <th>Rating</th>\n",
       "      <th>Beer_Type</th>\n",
       "    </tr>\n",
       "  </thead>\n",
       "  <tbody>\n",
       "    <tr>\n",
       "      <th>344</th>\n",
       "      <td>101</td>\n",
       "      <td>9.2</td>\n",
       "      <td>3.778</td>\n",
       "      <td>IPA</td>\n",
       "    </tr>\n",
       "    <tr>\n",
       "      <th>345</th>\n",
       "      <td>70</td>\n",
       "      <td>6.8</td>\n",
       "      <td>4.015</td>\n",
       "      <td>IPA</td>\n",
       "    </tr>\n",
       "    <tr>\n",
       "      <th>346</th>\n",
       "      <td>80</td>\n",
       "      <td>6.9</td>\n",
       "      <td>3.554</td>\n",
       "      <td>IPA</td>\n",
       "    </tr>\n",
       "  </tbody>\n",
       "</table>\n",
       "</div>"
      ],
      "text/plain": [
       "     IBU  ABV  Rating Beer_Type\n",
       "344  101  9.2   3.778       IPA\n",
       "345   70  6.8   4.015       IPA\n",
       "346   80  6.9   3.554       IPA"
      ]
     },
     "execution_count": 49,
     "metadata": {},
     "output_type": "execute_result"
    }
   ],
   "source": [
    "## You code \n",
    "## investigate what .tail(n) does \n",
    "## using the beer_df\n",
    "## https://pandas.pydata.org/docs/reference/api/pandas.DataFrame.tail.html\n",
    "## Hint: n must be an integer\n",
    "beer_df.tail(3)"
   ]
  },
  {
   "cell_type": "code",
   "execution_count": 54,
   "id": "ef5425e7",
   "metadata": {},
   "outputs": [
    {
     "data": {
      "text/html": [
       "<div>\n",
       "<style scoped>\n",
       "    .dataframe tbody tr th:only-of-type {\n",
       "        vertical-align: middle;\n",
       "    }\n",
       "\n",
       "    .dataframe tbody tr th {\n",
       "        vertical-align: top;\n",
       "    }\n",
       "\n",
       "    .dataframe thead th {\n",
       "        text-align: right;\n",
       "    }\n",
       "</style>\n",
       "<table border=\"1\" class=\"dataframe\">\n",
       "  <thead>\n",
       "    <tr style=\"text-align: right;\">\n",
       "      <th></th>\n",
       "      <th>IBU</th>\n",
       "      <th>ABV</th>\n",
       "      <th>Rating</th>\n",
       "      <th>Beer_Type</th>\n",
       "    </tr>\n",
       "  </thead>\n",
       "  <tbody>\n",
       "    <tr>\n",
       "      <th>252</th>\n",
       "      <td>40</td>\n",
       "      <td>3.8</td>\n",
       "      <td>3.641</td>\n",
       "      <td>IPA</td>\n",
       "    </tr>\n",
       "    <tr>\n",
       "      <th>309</th>\n",
       "      <td>45</td>\n",
       "      <td>6.1</td>\n",
       "      <td>3.650</td>\n",
       "      <td>IPA</td>\n",
       "    </tr>\n",
       "    <tr>\n",
       "      <th>36</th>\n",
       "      <td>30</td>\n",
       "      <td>4.7</td>\n",
       "      <td>3.711</td>\n",
       "      <td>Stout</td>\n",
       "    </tr>\n",
       "    <tr>\n",
       "      <th>320</th>\n",
       "      <td>60</td>\n",
       "      <td>7.0</td>\n",
       "      <td>3.743</td>\n",
       "      <td>IPA</td>\n",
       "    </tr>\n",
       "    <tr>\n",
       "      <th>106</th>\n",
       "      <td>23</td>\n",
       "      <td>5.5</td>\n",
       "      <td>3.934</td>\n",
       "      <td>Stout</td>\n",
       "    </tr>\n",
       "    <tr>\n",
       "      <th>1</th>\n",
       "      <td>60</td>\n",
       "      <td>8.3</td>\n",
       "      <td>4.145</td>\n",
       "      <td>Stout</td>\n",
       "    </tr>\n",
       "    <tr>\n",
       "      <th>160</th>\n",
       "      <td>35</td>\n",
       "      <td>5.6</td>\n",
       "      <td>3.780</td>\n",
       "      <td>IPA</td>\n",
       "    </tr>\n",
       "  </tbody>\n",
       "</table>\n",
       "</div>"
      ],
      "text/plain": [
       "     IBU  ABV  Rating Beer_Type\n",
       "252   40  3.8   3.641       IPA\n",
       "309   45  6.1   3.650       IPA\n",
       "36    30  4.7   3.711     Stout\n",
       "320   60  7.0   3.743       IPA\n",
       "106   23  5.5   3.934     Stout\n",
       "1     60  8.3   4.145     Stout\n",
       "160   35  5.6   3.780       IPA"
      ]
     },
     "execution_count": 54,
     "metadata": {},
     "output_type": "execute_result"
    }
   ],
   "source": [
    "## You code\n",
    "## investigate what .sample(n) does\n",
    "## using the beer_df\n",
    "## https://pandas.pydata.org/docs/reference/api/pandas.DataFrame.sample.html\n",
    "## Hint: n must be an integer\n",
    "beer_df.sample(7)"
   ]
  },
  {
   "cell_type": "code",
   "execution_count": 59,
   "id": "1205561d",
   "metadata": {},
   "outputs": [
    {
     "data": {
      "text/html": [
       "<div>\n",
       "<style scoped>\n",
       "    .dataframe tbody tr th:only-of-type {\n",
       "        vertical-align: middle;\n",
       "    }\n",
       "\n",
       "    .dataframe tbody tr th {\n",
       "        vertical-align: top;\n",
       "    }\n",
       "\n",
       "    .dataframe thead th {\n",
       "        text-align: right;\n",
       "    }\n",
       "</style>\n",
       "<table border=\"1\" class=\"dataframe\">\n",
       "  <thead>\n",
       "    <tr style=\"text-align: right;\">\n",
       "      <th></th>\n",
       "      <th>IBU</th>\n",
       "      <th>ABV</th>\n",
       "      <th>Rating</th>\n",
       "      <th>Beer_Type</th>\n",
       "    </tr>\n",
       "  </thead>\n",
       "  <tbody>\n",
       "    <tr>\n",
       "      <th>84</th>\n",
       "      <td>26</td>\n",
       "      <td>6.00</td>\n",
       "      <td>3.762</td>\n",
       "      <td>Stout</td>\n",
       "    </tr>\n",
       "    <tr>\n",
       "      <th>36</th>\n",
       "      <td>30</td>\n",
       "      <td>4.70</td>\n",
       "      <td>3.711</td>\n",
       "      <td>Stout</td>\n",
       "    </tr>\n",
       "    <tr>\n",
       "      <th>92</th>\n",
       "      <td>30</td>\n",
       "      <td>8.00</td>\n",
       "      <td>3.639</td>\n",
       "      <td>Stout</td>\n",
       "    </tr>\n",
       "    <tr>\n",
       "      <th>23</th>\n",
       "      <td>29</td>\n",
       "      <td>9.10</td>\n",
       "      <td>3.823</td>\n",
       "      <td>Stout</td>\n",
       "    </tr>\n",
       "    <tr>\n",
       "      <th>123</th>\n",
       "      <td>50</td>\n",
       "      <td>8.25</td>\n",
       "      <td>3.903</td>\n",
       "      <td>Stout</td>\n",
       "    </tr>\n",
       "    <tr>\n",
       "      <th>67</th>\n",
       "      <td>40</td>\n",
       "      <td>10.50</td>\n",
       "      <td>3.829</td>\n",
       "      <td>Stout</td>\n",
       "    </tr>\n",
       "    <tr>\n",
       "      <th>245</th>\n",
       "      <td>55</td>\n",
       "      <td>5.60</td>\n",
       "      <td>3.596</td>\n",
       "      <td>IPA</td>\n",
       "    </tr>\n",
       "  </tbody>\n",
       "</table>\n",
       "</div>"
      ],
      "text/plain": [
       "     IBU    ABV  Rating Beer_Type\n",
       "84    26   6.00   3.762     Stout\n",
       "36    30   4.70   3.711     Stout\n",
       "92    30   8.00   3.639     Stout\n",
       "23    29   9.10   3.823     Stout\n",
       "123   50   8.25   3.903     Stout\n",
       "67    40  10.50   3.829     Stout\n",
       "245   55   5.60   3.596       IPA"
      ]
     },
     "execution_count": 59,
     "metadata": {},
     "output_type": "execute_result"
    }
   ],
   "source": [
    "## You code\n",
    "## what happens when you add the argument\n",
    "## random_state=440 in .sample()?\n",
    "## rerun the code chunk multiple times with or without the random_state\n",
    "## try different numbers for the random_state\n",
    "beer_df.sample(7, random_state=189)"
   ]
  },
  {
   "cell_type": "code",
   "execution_count": 60,
   "id": "8e9a91a7",
   "metadata": {},
   "outputs": [
    {
     "name": "stdout",
     "output_type": "stream",
     "text": [
      "<class 'pandas.core.frame.DataFrame'>\n",
      "RangeIndex: 849 entries, 0 to 848\n",
      "Data columns (total 3 columns):\n",
      " #   Column          Non-Null Count  Dtype\n",
      "---  ------          --------------  -----\n",
      " 0   LOC_X           849 non-null    int64\n",
      " 1   LOC_Y           849 non-null    int64\n",
      " 2   SHOT_MADE_FLAG  849 non-null    int64\n",
      "dtypes: int64(3)\n",
      "memory usage: 20.0 KB\n"
     ]
    }
   ],
   "source": [
    "## df.info() tells you useful information about your\n",
    "## dataframe, like the column names,\n",
    "## the number of rows,\n",
    "## the number of non-empty entries for each column,\n",
    "## the data type of each column\n",
    "## and how much memory the dataframe uses\n",
    "## https://pandas.pydata.org/docs/reference/api/pandas.DataFrame.info.html\n",
    "jr_shots.info()"
   ]
  },
  {
   "cell_type": "code",
   "execution_count": 61,
   "id": "07f69a78",
   "metadata": {},
   "outputs": [
    {
     "data": {
      "text/html": [
       "<div>\n",
       "<style scoped>\n",
       "    .dataframe tbody tr th:only-of-type {\n",
       "        vertical-align: middle;\n",
       "    }\n",
       "\n",
       "    .dataframe tbody tr th {\n",
       "        vertical-align: top;\n",
       "    }\n",
       "\n",
       "    .dataframe thead th {\n",
       "        text-align: right;\n",
       "    }\n",
       "</style>\n",
       "<table border=\"1\" class=\"dataframe\">\n",
       "  <thead>\n",
       "    <tr style=\"text-align: right;\">\n",
       "      <th></th>\n",
       "      <th>LOC_X</th>\n",
       "      <th>LOC_Y</th>\n",
       "      <th>SHOT_MADE_FLAG</th>\n",
       "    </tr>\n",
       "  </thead>\n",
       "  <tbody>\n",
       "    <tr>\n",
       "      <th>count</th>\n",
       "      <td>849.000000</td>\n",
       "      <td>849.000000</td>\n",
       "      <td>849.000000</td>\n",
       "    </tr>\n",
       "    <tr>\n",
       "      <th>mean</th>\n",
       "      <td>-6.204947</td>\n",
       "      <td>112.106007</td>\n",
       "      <td>0.414605</td>\n",
       "    </tr>\n",
       "    <tr>\n",
       "      <th>std</th>\n",
       "      <td>157.201943</td>\n",
       "      <td>91.254429</td>\n",
       "      <td>0.492944</td>\n",
       "    </tr>\n",
       "    <tr>\n",
       "      <th>min</th>\n",
       "      <td>-250.000000</td>\n",
       "      <td>-46.000000</td>\n",
       "      <td>0.000000</td>\n",
       "    </tr>\n",
       "    <tr>\n",
       "      <th>25%</th>\n",
       "      <td>-158.000000</td>\n",
       "      <td>21.000000</td>\n",
       "      <td>0.000000</td>\n",
       "    </tr>\n",
       "    <tr>\n",
       "      <th>50%</th>\n",
       "      <td>-2.000000</td>\n",
       "      <td>110.000000</td>\n",
       "      <td>0.000000</td>\n",
       "    </tr>\n",
       "    <tr>\n",
       "      <th>75%</th>\n",
       "      <td>133.000000</td>\n",
       "      <td>193.000000</td>\n",
       "      <td>1.000000</td>\n",
       "    </tr>\n",
       "    <tr>\n",
       "      <th>max</th>\n",
       "      <td>245.000000</td>\n",
       "      <td>693.000000</td>\n",
       "      <td>1.000000</td>\n",
       "    </tr>\n",
       "  </tbody>\n",
       "</table>\n",
       "</div>"
      ],
      "text/plain": [
       "            LOC_X       LOC_Y  SHOT_MADE_FLAG\n",
       "count  849.000000  849.000000      849.000000\n",
       "mean    -6.204947  112.106007        0.414605\n",
       "std    157.201943   91.254429        0.492944\n",
       "min   -250.000000  -46.000000        0.000000\n",
       "25%   -158.000000   21.000000        0.000000\n",
       "50%     -2.000000  110.000000        0.000000\n",
       "75%    133.000000  193.000000        1.000000\n",
       "max    245.000000  693.000000        1.000000"
      ]
     },
     "execution_count": 61,
     "metadata": {},
     "output_type": "execute_result"
    }
   ],
   "source": [
    "## df.describe()\n",
    "## provides the 5 stat breakdown of each numeric column\n",
    "## that is any column that consists of integers or floats\n",
    "## will have its, minimum, maximum, first quartile, median,\n",
    "## third quartile, and mean provided\n",
    "## https://pandas.pydata.org/docs/reference/api/pandas.DataFrame.describe.html\n",
    "jr_shots.describe()"
   ]
  },
  {
   "cell_type": "code",
   "execution_count": 67,
   "id": "b23ca39e",
   "metadata": {},
   "outputs": [
    {
     "name": "stdout",
     "output_type": "stream",
     "text": [
      "Mean:\n",
      "IBU       57.579251\n",
      "ABV        7.639769\n",
      "Rating     3.853980\n",
      "dtype: float64\n",
      "\n",
      "Max:\n",
      "IBU            250\n",
      "ABV           18.0\n",
      "Rating       4.541\n",
      "Beer_Type    Stout\n",
      "dtype: object\n",
      "\n",
      "Min:\n",
      "IBU              6\n",
      "ABV            3.8\n",
      "Rating       3.022\n",
      "Beer_Type      IPA\n",
      "dtype: object\n",
      "\n",
      "Describe:\n",
      "              IBU         ABV      Rating\n",
      "count  347.000000  347.000000  347.000000\n",
      "mean    57.579251    7.639769    3.853980\n",
      "std     24.100858    2.216800    0.228915\n",
      "min      6.000000    3.800000    3.022000\n",
      "25%     40.000000    6.200000    3.700500\n",
      "50%     60.000000    7.000000    3.823000\n",
      "75%     70.000000    8.850000    3.982500\n",
      "max    250.000000   18.000000    4.541000\n",
      "\n"
     ]
    },
    {
     "name": "stderr",
     "output_type": "stream",
     "text": [
      "/var/folders/58/ybrfn44n059260sdf33phdqc0000gn/T/ipykernel_75684/1378125755.py:10: FutureWarning: The default value of numeric_only in DataFrame.mean is deprecated. In a future version, it will default to False. In addition, specifying 'numeric_only=None' is deprecated. Select only valid columns or specify the value of numeric_only to silence this warning.\n",
      "  print(beer_df.mean())\n"
     ]
    }
   ],
   "source": [
    "## You code\n",
    "## Try out .mean() and .max() and .min()\n",
    "## on beer_df\n",
    "## Compare the results to .describe()'s output\n",
    "\n",
    "## .mean() - https://pandas.pydata.org/docs/reference/api/pandas.DataFrame.mean.html\n",
    "## .max() - https://pandas.pydata.org/docs/reference/api/pandas.DataFrame.max.html\n",
    "## .min() - https://pandas.pydata.org/docs/reference/api/pandas.DataFrame.min.html\n",
    "print(\"Mean:\")\n",
    "print(beer_df.mean())\n",
    "print()\n",
    "\n",
    "print(\"Max:\")\n",
    "print(beer_df.max())\n",
    "print()\n",
    "\n",
    "print(\"Min:\")\n",
    "print(beer_df.min())\n",
    "print()\n",
    "\n",
    "print(\"Describe:\")\n",
    "print(beer_df.describe())\n",
    "print()"
   ]
  },
  {
   "cell_type": "code",
   "execution_count": 68,
   "id": "b9749074",
   "metadata": {},
   "outputs": [
    {
     "data": {
      "text/plain": [
       "0    497\n",
       "1    352\n",
       "Name: SHOT_MADE_FLAG, dtype: int64"
      ]
     },
     "execution_count": 68,
     "metadata": {},
     "output_type": "execute_result"
    }
   ],
   "source": [
    "## What about variables that aren't numeric? Like\n",
    "## classes\n",
    "## You can use df.value_counts() for those\n",
    "## https://pandas.pydata.org/docs/reference/api/pandas.DataFrame.value_counts.html\n",
    "jr_shots.SHOT_MADE_FLAG.value_counts()"
   ]
  },
  {
   "cell_type": "markdown",
   "id": "bbe9fdc7",
   "metadata": {},
   "source": [
    "The above tells us that 497 observations have a `SHOT_MADE_FLAG` of 0 and 352 have a `SHOT_MADE_FLAG` of 1."
   ]
  },
  {
   "cell_type": "code",
   "execution_count": 70,
   "id": "6ee3378c",
   "metadata": {},
   "outputs": [
    {
     "name": "stdout",
     "output_type": "stream",
     "text": [
      "IPA      195\n",
      "Stout    152\n",
      "Name: Beer_Type, dtype: int64\n",
      "\n",
      "IPA      0.56196\n",
      "Stout    0.43804\n",
      "Name: Beer_Type, dtype: float64\n",
      "\n"
     ]
    }
   ],
   "source": [
    "## You code\n",
    "## How many of each \"Beer_Type\" are there in beer_df?\n",
    "\n",
    "print(beer_df.Beer_Type.value_counts())\n",
    "print()\n",
    "\n",
    "\n",
    "## What happens when you input the argument normalize=True into value_counts()?\n",
    "\n",
    "print(beer_df.Beer_Type.value_counts(normalize=True))\n",
    "print()"
   ]
  },
  {
   "cell_type": "markdown",
   "id": "ace110e6",
   "metadata": {},
   "source": [
    "One task that we will do quite often in the boot camp is split one data set into two non-overlapping data sets. Let's see how we can do that here."
   ]
  },
  {
   "cell_type": "code",
   "execution_count": 71,
   "id": "82fbcb9c",
   "metadata": {},
   "outputs": [],
   "source": [
    "## Let's first randomly sample 100 observations from jr_shots\n",
    "## Note the .copy()\n",
    "## this creates a deep copy of the DataFrame \n",
    "jr_1 = jr_shots.sample(100, random_state=54888).copy()"
   ]
  },
  {
   "cell_type": "code",
   "execution_count": 73,
   "id": "1b854def",
   "metadata": {},
   "outputs": [
    {
     "data": {
      "text/html": [
       "<div>\n",
       "<style scoped>\n",
       "    .dataframe tbody tr th:only-of-type {\n",
       "        vertical-align: middle;\n",
       "    }\n",
       "\n",
       "    .dataframe tbody tr th {\n",
       "        vertical-align: top;\n",
       "    }\n",
       "\n",
       "    .dataframe thead th {\n",
       "        text-align: right;\n",
       "    }\n",
       "</style>\n",
       "<table border=\"1\" class=\"dataframe\">\n",
       "  <thead>\n",
       "    <tr style=\"text-align: right;\">\n",
       "      <th></th>\n",
       "      <th>LOC_X</th>\n",
       "      <th>LOC_Y</th>\n",
       "      <th>SHOT_MADE_FLAG</th>\n",
       "    </tr>\n",
       "  </thead>\n",
       "  <tbody>\n",
       "    <tr>\n",
       "      <th>302</th>\n",
       "      <td>227</td>\n",
       "      <td>-1</td>\n",
       "      <td>0</td>\n",
       "    </tr>\n",
       "    <tr>\n",
       "      <th>474</th>\n",
       "      <td>-81</td>\n",
       "      <td>174</td>\n",
       "      <td>0</td>\n",
       "    </tr>\n",
       "    <tr>\n",
       "      <th>647</th>\n",
       "      <td>-241</td>\n",
       "      <td>111</td>\n",
       "      <td>0</td>\n",
       "    </tr>\n",
       "    <tr>\n",
       "      <th>109</th>\n",
       "      <td>15</td>\n",
       "      <td>65</td>\n",
       "      <td>1</td>\n",
       "    </tr>\n",
       "    <tr>\n",
       "      <th>376</th>\n",
       "      <td>60</td>\n",
       "      <td>21</td>\n",
       "      <td>1</td>\n",
       "    </tr>\n",
       "    <tr>\n",
       "      <th>...</th>\n",
       "      <td>...</td>\n",
       "      <td>...</td>\n",
       "      <td>...</td>\n",
       "    </tr>\n",
       "    <tr>\n",
       "      <th>149</th>\n",
       "      <td>-165</td>\n",
       "      <td>198</td>\n",
       "      <td>0</td>\n",
       "    </tr>\n",
       "    <tr>\n",
       "      <th>766</th>\n",
       "      <td>128</td>\n",
       "      <td>188</td>\n",
       "      <td>0</td>\n",
       "    </tr>\n",
       "    <tr>\n",
       "      <th>792</th>\n",
       "      <td>140</td>\n",
       "      <td>208</td>\n",
       "      <td>0</td>\n",
       "    </tr>\n",
       "    <tr>\n",
       "      <th>336</th>\n",
       "      <td>25</td>\n",
       "      <td>8</td>\n",
       "      <td>0</td>\n",
       "    </tr>\n",
       "    <tr>\n",
       "      <th>342</th>\n",
       "      <td>-40</td>\n",
       "      <td>180</td>\n",
       "      <td>1</td>\n",
       "    </tr>\n",
       "  </tbody>\n",
       "</table>\n",
       "<p>100 rows × 3 columns</p>\n",
       "</div>"
      ],
      "text/plain": [
       "     LOC_X  LOC_Y  SHOT_MADE_FLAG\n",
       "302    227     -1               0\n",
       "474    -81    174               0\n",
       "647   -241    111               0\n",
       "109     15     65               1\n",
       "376     60     21               1\n",
       "..     ...    ...             ...\n",
       "149   -165    198               0\n",
       "766    128    188               0\n",
       "792    140    208               0\n",
       "336     25      8               0\n",
       "342    -40    180               1\n",
       "\n",
       "[100 rows x 3 columns]"
      ]
     },
     "execution_count": 73,
     "metadata": {},
     "output_type": "execute_result"
    }
   ],
   "source": [
    "jr_1"
   ]
  },
  {
   "cell_type": "code",
   "execution_count": 74,
   "id": "b5a31e62",
   "metadata": {},
   "outputs": [],
   "source": [
    "## To create jr_2 we'll just drop the indices of jr_1 from\n",
    "## jr_shots using .drop()\n",
    "## https://pandas.pydata.org/docs/reference/api/pandas.DataFrame.drop.html\n",
    "\n",
    "## Again we include .copy() to make a deep copy of the dataframe\n",
    "jr_2 = jr_shots.drop(jr_1.index).copy()"
   ]
  },
  {
   "cell_type": "code",
   "execution_count": 75,
   "id": "8699cae9",
   "metadata": {},
   "outputs": [
    {
     "data": {
      "text/html": [
       "<div>\n",
       "<style scoped>\n",
       "    .dataframe tbody tr th:only-of-type {\n",
       "        vertical-align: middle;\n",
       "    }\n",
       "\n",
       "    .dataframe tbody tr th {\n",
       "        vertical-align: top;\n",
       "    }\n",
       "\n",
       "    .dataframe thead th {\n",
       "        text-align: right;\n",
       "    }\n",
       "</style>\n",
       "<table border=\"1\" class=\"dataframe\">\n",
       "  <thead>\n",
       "    <tr style=\"text-align: right;\">\n",
       "      <th></th>\n",
       "      <th>LOC_X</th>\n",
       "      <th>LOC_Y</th>\n",
       "      <th>SHOT_MADE_FLAG</th>\n",
       "    </tr>\n",
       "  </thead>\n",
       "  <tbody>\n",
       "    <tr>\n",
       "      <th>302</th>\n",
       "      <td>227</td>\n",
       "      <td>-1</td>\n",
       "      <td>0</td>\n",
       "    </tr>\n",
       "    <tr>\n",
       "      <th>474</th>\n",
       "      <td>-81</td>\n",
       "      <td>174</td>\n",
       "      <td>0</td>\n",
       "    </tr>\n",
       "    <tr>\n",
       "      <th>647</th>\n",
       "      <td>-241</td>\n",
       "      <td>111</td>\n",
       "      <td>0</td>\n",
       "    </tr>\n",
       "    <tr>\n",
       "      <th>109</th>\n",
       "      <td>15</td>\n",
       "      <td>65</td>\n",
       "      <td>1</td>\n",
       "    </tr>\n",
       "    <tr>\n",
       "      <th>376</th>\n",
       "      <td>60</td>\n",
       "      <td>21</td>\n",
       "      <td>1</td>\n",
       "    </tr>\n",
       "    <tr>\n",
       "      <th>...</th>\n",
       "      <td>...</td>\n",
       "      <td>...</td>\n",
       "      <td>...</td>\n",
       "    </tr>\n",
       "    <tr>\n",
       "      <th>149</th>\n",
       "      <td>-165</td>\n",
       "      <td>198</td>\n",
       "      <td>0</td>\n",
       "    </tr>\n",
       "    <tr>\n",
       "      <th>766</th>\n",
       "      <td>128</td>\n",
       "      <td>188</td>\n",
       "      <td>0</td>\n",
       "    </tr>\n",
       "    <tr>\n",
       "      <th>792</th>\n",
       "      <td>140</td>\n",
       "      <td>208</td>\n",
       "      <td>0</td>\n",
       "    </tr>\n",
       "    <tr>\n",
       "      <th>336</th>\n",
       "      <td>25</td>\n",
       "      <td>8</td>\n",
       "      <td>0</td>\n",
       "    </tr>\n",
       "    <tr>\n",
       "      <th>342</th>\n",
       "      <td>-40</td>\n",
       "      <td>180</td>\n",
       "      <td>1</td>\n",
       "    </tr>\n",
       "  </tbody>\n",
       "</table>\n",
       "<p>100 rows × 3 columns</p>\n",
       "</div>"
      ],
      "text/plain": [
       "     LOC_X  LOC_Y  SHOT_MADE_FLAG\n",
       "302    227     -1               0\n",
       "474    -81    174               0\n",
       "647   -241    111               0\n",
       "109     15     65               1\n",
       "376     60     21               1\n",
       "..     ...    ...             ...\n",
       "149   -165    198               0\n",
       "766    128    188               0\n",
       "792    140    208               0\n",
       "336     25      8               0\n",
       "342    -40    180               1\n",
       "\n",
       "[100 rows x 3 columns]"
      ]
     },
     "execution_count": 75,
     "metadata": {},
     "output_type": "execute_result"
    }
   ],
   "source": [
    "jr_1"
   ]
  },
  {
   "cell_type": "code",
   "execution_count": 76,
   "id": "51e1185f",
   "metadata": {},
   "outputs": [
    {
     "data": {
      "text/html": [
       "<div>\n",
       "<style scoped>\n",
       "    .dataframe tbody tr th:only-of-type {\n",
       "        vertical-align: middle;\n",
       "    }\n",
       "\n",
       "    .dataframe tbody tr th {\n",
       "        vertical-align: top;\n",
       "    }\n",
       "\n",
       "    .dataframe thead th {\n",
       "        text-align: right;\n",
       "    }\n",
       "</style>\n",
       "<table border=\"1\" class=\"dataframe\">\n",
       "  <thead>\n",
       "    <tr style=\"text-align: right;\">\n",
       "      <th></th>\n",
       "      <th>LOC_X</th>\n",
       "      <th>LOC_Y</th>\n",
       "      <th>SHOT_MADE_FLAG</th>\n",
       "    </tr>\n",
       "  </thead>\n",
       "  <tbody>\n",
       "    <tr>\n",
       "      <th>0</th>\n",
       "      <td>-106</td>\n",
       "      <td>244</td>\n",
       "      <td>0</td>\n",
       "    </tr>\n",
       "    <tr>\n",
       "      <th>1</th>\n",
       "      <td>-96</td>\n",
       "      <td>97</td>\n",
       "      <td>0</td>\n",
       "    </tr>\n",
       "    <tr>\n",
       "      <th>2</th>\n",
       "      <td>30</td>\n",
       "      <td>23</td>\n",
       "      <td>0</td>\n",
       "    </tr>\n",
       "    <tr>\n",
       "      <th>3</th>\n",
       "      <td>-204</td>\n",
       "      <td>-1</td>\n",
       "      <td>0</td>\n",
       "    </tr>\n",
       "    <tr>\n",
       "      <th>4</th>\n",
       "      <td>-76</td>\n",
       "      <td>237</td>\n",
       "      <td>0</td>\n",
       "    </tr>\n",
       "    <tr>\n",
       "      <th>...</th>\n",
       "      <td>...</td>\n",
       "      <td>...</td>\n",
       "      <td>...</td>\n",
       "    </tr>\n",
       "    <tr>\n",
       "      <th>842</th>\n",
       "      <td>171</td>\n",
       "      <td>178</td>\n",
       "      <td>1</td>\n",
       "    </tr>\n",
       "    <tr>\n",
       "      <th>844</th>\n",
       "      <td>145</td>\n",
       "      <td>-15</td>\n",
       "      <td>0</td>\n",
       "    </tr>\n",
       "    <tr>\n",
       "      <th>845</th>\n",
       "      <td>-241</td>\n",
       "      <td>67</td>\n",
       "      <td>0</td>\n",
       "    </tr>\n",
       "    <tr>\n",
       "      <th>846</th>\n",
       "      <td>164</td>\n",
       "      <td>195</td>\n",
       "      <td>0</td>\n",
       "    </tr>\n",
       "    <tr>\n",
       "      <th>848</th>\n",
       "      <td>-89</td>\n",
       "      <td>288</td>\n",
       "      <td>0</td>\n",
       "    </tr>\n",
       "  </tbody>\n",
       "</table>\n",
       "<p>749 rows × 3 columns</p>\n",
       "</div>"
      ],
      "text/plain": [
       "     LOC_X  LOC_Y  SHOT_MADE_FLAG\n",
       "0     -106    244               0\n",
       "1      -96     97               0\n",
       "2       30     23               0\n",
       "3     -204     -1               0\n",
       "4      -76    237               0\n",
       "..     ...    ...             ...\n",
       "842    171    178               1\n",
       "844    145    -15               0\n",
       "845   -241     67               0\n",
       "846    164    195               0\n",
       "848    -89    288               0\n",
       "\n",
       "[749 rows x 3 columns]"
      ]
     },
     "execution_count": 76,
     "metadata": {},
     "output_type": "execute_result"
    }
   ],
   "source": [
    "jr_2"
   ]
  },
  {
   "cell_type": "code",
   "execution_count": 77,
   "id": "253fb5bb",
   "metadata": {},
   "outputs": [
    {
     "data": {
      "text/plain": [
       "True"
      ]
     },
     "execution_count": 77,
     "metadata": {},
     "output_type": "execute_result"
    }
   ],
   "source": [
    "## Let's check that it worked like we thought it would\n",
    "len(jr_1) + len(jr_2) == len(jr_shots)"
   ]
  },
  {
   "cell_type": "code",
   "execution_count": 79,
   "id": "02a39c61",
   "metadata": {},
   "outputs": [],
   "source": [
    "## You code\n",
    "## split beer_df into beer_1 and beer_2\n",
    "## beer_1 should be a random sample of 150 observations\n",
    "## beer_2 should be all rows not in beer_1\n",
    "beer_1 = beer_df.sample(150, random_state=8138).copy()\n",
    "beer_2 = beer_df.drop(beer_1.index).copy()"
   ]
  },
  {
   "cell_type": "code",
   "execution_count": 80,
   "id": "850bd93d",
   "metadata": {},
   "outputs": [
    {
     "data": {
      "text/plain": [
       "True"
      ]
     },
     "execution_count": 80,
     "metadata": {},
     "output_type": "execute_result"
    }
   ],
   "source": [
    "len(beer_1) + len(beer_2) == len(beer_df)"
   ]
  },
  {
   "cell_type": "markdown",
   "id": "cd672138",
   "metadata": {},
   "source": [
    "### Saving a `DataFrame` to File\n",
    "\n",
    "Just like we easily read in a data file we can use `pandas` to quickly save data to a file.\n",
    "\n",
    "This is done with the function `df.to_csv()`, <a href=\"https://pandas.pydata.org/docs/reference/api/pandas.DataFrame.to_csv.html\">https://pandas.pydata.org/docs/reference/api/pandas.DataFrame.to_csv.html</a>."
   ]
  },
  {
   "cell_type": "code",
   "execution_count": 81,
   "id": "8a183b8f",
   "metadata": {},
   "outputs": [
    {
     "data": {
      "text/html": [
       "<div>\n",
       "<style scoped>\n",
       "    .dataframe tbody tr th:only-of-type {\n",
       "        vertical-align: middle;\n",
       "    }\n",
       "\n",
       "    .dataframe tbody tr th {\n",
       "        vertical-align: top;\n",
       "    }\n",
       "\n",
       "    .dataframe thead th {\n",
       "        text-align: right;\n",
       "    }\n",
       "</style>\n",
       "<table border=\"1\" class=\"dataframe\">\n",
       "  <thead>\n",
       "    <tr style=\"text-align: right;\">\n",
       "      <th></th>\n",
       "      <th>a</th>\n",
       "      <th>b</th>\n",
       "      <th>c</th>\n",
       "    </tr>\n",
       "  </thead>\n",
       "  <tbody>\n",
       "    <tr>\n",
       "      <th>0</th>\n",
       "      <td>1</td>\n",
       "      <td>2</td>\n",
       "      <td>17</td>\n",
       "    </tr>\n",
       "    <tr>\n",
       "      <th>1</th>\n",
       "      <td>2</td>\n",
       "      <td>4</td>\n",
       "      <td>34</td>\n",
       "    </tr>\n",
       "    <tr>\n",
       "      <th>2</th>\n",
       "      <td>3</td>\n",
       "      <td>6</td>\n",
       "      <td>51</td>\n",
       "    </tr>\n",
       "  </tbody>\n",
       "</table>\n",
       "</div>"
      ],
      "text/plain": [
       "   a  b   c\n",
       "0  1  2  17\n",
       "1  2  4  34\n",
       "2  3  6  51"
      ]
     },
     "execution_count": 81,
     "metadata": {},
     "output_type": "execute_result"
    }
   ],
   "source": [
    "## Let's first make a data frame\n",
    "df = pd.DataFrame({'a':[1,2,3],\n",
    "                   'b':[2,4,6],\n",
    "                   'c':[17,34,51]})\n",
    "\n",
    "df"
   ]
  },
  {
   "cell_type": "code",
   "execution_count": 82,
   "id": "f4a83274",
   "metadata": {},
   "outputs": [],
   "source": [
    "## Now we call df.to_csv(file_name)\n",
    "df.to_csv(\"../data/our_first_dataframe.csv\")"
   ]
  },
  {
   "cell_type": "markdown",
   "id": "46259a25",
   "metadata": {},
   "source": [
    "Go ahead and check your repository, you should now see `our_first_dataframe.csv` in there."
   ]
  },
  {
   "cell_type": "code",
   "execution_count": 84,
   "id": "80f2cfcd",
   "metadata": {},
   "outputs": [
    {
     "data": {
      "text/html": [
       "<div>\n",
       "<style scoped>\n",
       "    .dataframe tbody tr th:only-of-type {\n",
       "        vertical-align: middle;\n",
       "    }\n",
       "\n",
       "    .dataframe tbody tr th {\n",
       "        vertical-align: top;\n",
       "    }\n",
       "\n",
       "    .dataframe thead th {\n",
       "        text-align: right;\n",
       "    }\n",
       "</style>\n",
       "<table border=\"1\" class=\"dataframe\">\n",
       "  <thead>\n",
       "    <tr style=\"text-align: right;\">\n",
       "      <th></th>\n",
       "      <th>Unnamed: 0</th>\n",
       "      <th>a</th>\n",
       "      <th>b</th>\n",
       "      <th>c</th>\n",
       "    </tr>\n",
       "  </thead>\n",
       "  <tbody>\n",
       "    <tr>\n",
       "      <th>0</th>\n",
       "      <td>0</td>\n",
       "      <td>1</td>\n",
       "      <td>2</td>\n",
       "      <td>17</td>\n",
       "    </tr>\n",
       "    <tr>\n",
       "      <th>1</th>\n",
       "      <td>1</td>\n",
       "      <td>2</td>\n",
       "      <td>4</td>\n",
       "      <td>34</td>\n",
       "    </tr>\n",
       "    <tr>\n",
       "      <th>2</th>\n",
       "      <td>2</td>\n",
       "      <td>3</td>\n",
       "      <td>6</td>\n",
       "      <td>51</td>\n",
       "    </tr>\n",
       "  </tbody>\n",
       "</table>\n",
       "</div>"
      ],
      "text/plain": [
       "   Unnamed: 0  a  b   c\n",
       "0           0  1  2  17\n",
       "1           1  2  4  34\n",
       "2           2  3  6  51"
      ]
     },
     "execution_count": 84,
     "metadata": {},
     "output_type": "execute_result"
    }
   ],
   "source": [
    "## You code\n",
    "## read in \"our_first_dataframe.csv\" using read_csv\n",
    "## then look at the df\n",
    "df = pd.read_csv(\"../data/our_first_dataframe.csv\")\n",
    "\n",
    "\n",
    "## is anything off?\n",
    "df"
   ]
  },
  {
   "cell_type": "markdown",
   "id": "69fbd502",
   "metadata": {},
   "source": [
    "When you ran `to_csv()` the default is to record the index as well. That is why your `DataFrame` has an unlabeled column when you read it back in using `read_csv`. If we wanted to avoid writing the index to file you include the argument `index=False`. "
   ]
  },
  {
   "cell_type": "code",
   "execution_count": 85,
   "id": "0b71acc9",
   "metadata": {},
   "outputs": [
    {
     "data": {
      "text/html": [
       "<div>\n",
       "<style scoped>\n",
       "    .dataframe tbody tr th:only-of-type {\n",
       "        vertical-align: middle;\n",
       "    }\n",
       "\n",
       "    .dataframe tbody tr th {\n",
       "        vertical-align: top;\n",
       "    }\n",
       "\n",
       "    .dataframe thead th {\n",
       "        text-align: right;\n",
       "    }\n",
       "</style>\n",
       "<table border=\"1\" class=\"dataframe\">\n",
       "  <thead>\n",
       "    <tr style=\"text-align: right;\">\n",
       "      <th></th>\n",
       "      <th>a</th>\n",
       "      <th>b</th>\n",
       "      <th>c</th>\n",
       "    </tr>\n",
       "  </thead>\n",
       "  <tbody>\n",
       "    <tr>\n",
       "      <th>0</th>\n",
       "      <td>1</td>\n",
       "      <td>2</td>\n",
       "      <td>17</td>\n",
       "    </tr>\n",
       "    <tr>\n",
       "      <th>1</th>\n",
       "      <td>2</td>\n",
       "      <td>4</td>\n",
       "      <td>34</td>\n",
       "    </tr>\n",
       "    <tr>\n",
       "      <th>2</th>\n",
       "      <td>3</td>\n",
       "      <td>6</td>\n",
       "      <td>51</td>\n",
       "    </tr>\n",
       "  </tbody>\n",
       "</table>\n",
       "</div>"
      ],
      "text/plain": [
       "   a  b   c\n",
       "0  1  2  17\n",
       "1  2  4  34\n",
       "2  3  6  51"
      ]
     },
     "execution_count": 85,
     "metadata": {},
     "output_type": "execute_result"
    }
   ],
   "source": [
    "## Make the DataFrame again\n",
    "df = pd.DataFrame({'a':[1,2,3],\n",
    "                   'b':[2,4,6],\n",
    "                   'c':[17,34,51]})\n",
    "\n",
    "df"
   ]
  },
  {
   "cell_type": "code",
   "execution_count": 86,
   "id": "88c9069f",
   "metadata": {},
   "outputs": [],
   "source": [
    "## write it to file without the index\n",
    "df.to_csv(\"../data/our_first_dataframe.csv\",\n",
    "          index=False)"
   ]
  },
  {
   "cell_type": "code",
   "execution_count": 87,
   "id": "1a5e7ae1",
   "metadata": {},
   "outputs": [
    {
     "data": {
      "text/html": [
       "<div>\n",
       "<style scoped>\n",
       "    .dataframe tbody tr th:only-of-type {\n",
       "        vertical-align: middle;\n",
       "    }\n",
       "\n",
       "    .dataframe tbody tr th {\n",
       "        vertical-align: top;\n",
       "    }\n",
       "\n",
       "    .dataframe thead th {\n",
       "        text-align: right;\n",
       "    }\n",
       "</style>\n",
       "<table border=\"1\" class=\"dataframe\">\n",
       "  <thead>\n",
       "    <tr style=\"text-align: right;\">\n",
       "      <th></th>\n",
       "      <th>a</th>\n",
       "      <th>b</th>\n",
       "      <th>c</th>\n",
       "    </tr>\n",
       "  </thead>\n",
       "  <tbody>\n",
       "    <tr>\n",
       "      <th>0</th>\n",
       "      <td>1</td>\n",
       "      <td>2</td>\n",
       "      <td>17</td>\n",
       "    </tr>\n",
       "    <tr>\n",
       "      <th>1</th>\n",
       "      <td>2</td>\n",
       "      <td>4</td>\n",
       "      <td>34</td>\n",
       "    </tr>\n",
       "    <tr>\n",
       "      <th>2</th>\n",
       "      <td>3</td>\n",
       "      <td>6</td>\n",
       "      <td>51</td>\n",
       "    </tr>\n",
       "  </tbody>\n",
       "</table>\n",
       "</div>"
      ],
      "text/plain": [
       "   a  b   c\n",
       "0  1  2  17\n",
       "1  2  4  34\n",
       "2  3  6  51"
      ]
     },
     "execution_count": 87,
     "metadata": {},
     "output_type": "execute_result"
    }
   ],
   "source": [
    "## You code\n",
    "## read in \"our_first_dataframe.csv\" using read_csv\n",
    "## then look at the df again\n",
    "\n",
    "df = pd.read_csv(\"../data/our_first_dataframe.csv\")\n",
    "df"
   ]
  },
  {
   "cell_type": "markdown",
   "id": "a05e616a",
   "metadata": {},
   "source": [
    "That's all you will need to know from `pandas` to have a firm footing for our boot camp. We will learn more stuff as we go along, but when that time comes you should be ready!"
   ]
  },
  {
   "cell_type": "markdown",
   "id": "51ba8462",
   "metadata": {},
   "source": [
    "--------------------------\n",
    "\n",
    "This notebook was written for the Erd&#337;s Institute C&#337;de Data Science Boot Camp by Matthew Osborne, Ph. D., 2023.\n",
    "\n",
    "Any potential redistributors must seek and receive permission from Matthew Tyler Osborne, Ph.D. prior to redistribution. Redistribution of the material contained in this repository is conditional on acknowledgement of Matthew Tyler Osborne, Ph.D.'s original authorship and sponsorship of the Erdős Institute as subject to the license (see License.md)"
   ]
  },
  {
   "cell_type": "code",
   "execution_count": null,
   "id": "0ef03bd1",
   "metadata": {},
   "outputs": [],
   "source": []
  }
 ],
 "metadata": {
  "kernelspec": {
   "display_name": "Python 3 (ipykernel)",
   "language": "python",
   "name": "python3"
  },
  "language_info": {
   "codemirror_mode": {
    "name": "ipython",
    "version": 3
   },
   "file_extension": ".py",
   "mimetype": "text/x-python",
   "name": "python",
   "nbconvert_exporter": "python",
   "pygments_lexer": "ipython3",
   "version": "3.9.16"
  }
 },
 "nbformat": 4,
 "nbformat_minor": 5
}
